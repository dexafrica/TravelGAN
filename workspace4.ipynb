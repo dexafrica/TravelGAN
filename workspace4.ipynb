{
  "nbformat": 4,
  "nbformat_minor": 0,
  "metadata": {
    "colab": {
      "name": "workspace3.ipynb",
      "provenance": [],
      "collapsed_sections": [],
      "include_colab_link": true
    },
    "kernelspec": {
      "name": "python3",
      "display_name": "Python 3"
    }
  },
  "cells": [
    {
      "cell_type": "markdown",
      "metadata": {
        "id": "view-in-github",
        "colab_type": "text"
      },
      "source": [
        "<a href=\"https://colab.research.google.com/github/dexafrica/TravelGAN/blob/development/workspace4.ipynb\" target=\"_parent\"><img src=\"https://colab.research.google.com/assets/colab-badge.svg\" alt=\"Open In Colab\"/></a>"
      ]
    },
    {
      "cell_type": "code",
      "metadata": {
        "id": "9WAmjQYVbcs4",
        "colab_type": "code",
        "colab": {}
      },
      "source": [
        "self.g_lr\n",
        "self.hidden_size"
      ],
      "execution_count": 0,
      "outputs": []
    },
    {
      "cell_type": "markdown",
      "metadata": {
        "id": "y_vCRyFkKwtt",
        "colab_type": "text"
      },
      "source": [
        "**Data Processing**"
      ]
    },
    {
      "cell_type": "code",
      "metadata": {
        "id": "FiL6dZv7K0iF",
        "colab_type": "code",
        "colab": {}
      },
      "source": [
        "pip install pandasql s2sphere pyproj nltk"
      ],
      "execution_count": 0,
      "outputs": []
    },
    {
      "cell_type": "code",
      "metadata": {
        "id": "9YqNOfzNLRr-",
        "colab_type": "code",
        "colab": {}
      },
      "source": [
        "import pandas as pd\n",
        "import pandasql as psql\n",
        "from pyproj import Proj, transform\n",
        "import numpy as np\n",
        "from numpy import array\n",
        "from sklearn.preprocessing import MinMaxScaler\n",
        "from datetime import datetime, timedelta"
      ],
      "execution_count": 0,
      "outputs": []
    },
    {
      "cell_type": "code",
      "metadata": {
        "id": "8C89Z_77LTlW",
        "colab_type": "code",
        "colab": {}
      },
      "source": [
        "# mount the google drive\n",
        "from google.colab import drive\n",
        "drive.mount('/content/drive')"
      ],
      "execution_count": 0,
      "outputs": []
    },
    {
      "cell_type": "code",
      "metadata": {
        "id": "a-lIruucLbEH",
        "colab_type": "code",
        "colab": {}
      },
      "source": [
        "data_path = 'drive/My Drive/ThesisProposal/trips_taz.csv'\n",
        "train_data = pd.read_csv(data_path) "
      ],
      "execution_count": 0,
      "outputs": []
    },
    {
      "cell_type": "code",
      "metadata": {
        "id": "ipo-Jym0MwHt",
        "colab_type": "code",
        "colab": {}
      },
      "source": [
        "train_data.head()"
      ],
      "execution_count": 0,
      "outputs": []
    },
    {
      "cell_type": "code",
      "metadata": {
        "id": "opVmmPGLqoAc",
        "colab_type": "code",
        "colab": {}
      },
      "source": [
        "cols = ['HID', 'ORIG', 'DEST', 'D_HREDE', 'D_MOTIF']\n",
        "test_data = train_data[cols]\n",
        "test_data['DEP_TIME'] = test_data['D_HREDE'].map(int).astype(str).str.zfill(4).str[:2] + ':' + test_data['D_HREDE'].map(int).astype(str).str.zfill(4).str[2:] + ':00'\n",
        "test_data['DEP_TIME'] = pd.to_datetime( pd.to_timedelta(test_data['DEP_TIME']).dt.round('5min') ).dt.strftime(\"%H:%M:%S\")\n",
        "test_data['D_MOTIF'] = test_data['D_MOTIF'].astype(str)\n",
        "\n",
        "test_data['END_TIME'] = test_data['DEP_TIME'] + timedelta(hours=1)\n",
        "test_origs = test_data.groupby('HID')['ORIG'].apply(' '.join).reset_index(name='ORIGS')\n",
        "test_times = test_data.groupby('HID')['DEP_TIME'].apply(' '.join).reset_index(name='TIMES')\n",
        "test_purpose = test_data.groupby('HID')['D_MOTIF'].apply(' '.join).reset_index(name='PURPOSE')\n",
        "\n",
        "end_rec = test_data.groupby(['HID']).last().reset_index()\n",
        "first_rec = test_data.groupby(['HID']).first().reset_index()"
      ],
      "execution_count": 0,
      "outputs": []
    },
    {
      "cell_type": "code",
      "metadata": {
        "id": "l6NGR88WJjzK",
        "colab_type": "code",
        "colab": {
          "base_uri": "https://localhost:8080/",
          "height": 52
        },
        "outputId": "e789713a-9e5b-41b3-8cb9-6dd800e4daac"
      },
      "source": [
        "full_trip = test_origs['ORIGS'] + ' ' + end_rec['DEST']\n",
        "full_times = test_times['TIMES'] + ' ' + pd.to_datetime(end_rec['END_TIME']).dt.strftime(\"%H:%M:%S\")\n",
        "full_purpose = test_purpose['PURPOSE'] + ' ' + first_rec['D_MOTIF']"
      ],
      "execution_count": 10,
      "outputs": [
        {
          "output_type": "stream",
          "text": [
            "/usr/local/lib/python3.6/dist-packages/pandas/util/_decorators.py:208: FutureWarning: Passing timedelta64-dtype data is deprecated, will raise a TypeError in a future version\n",
            "  return func(*args, **kwargs)\n"
          ],
          "name": "stderr"
        }
      ]
    },
    {
      "cell_type": "code",
      "metadata": {
        "id": "U1QP5wYcTwYj",
        "colab_type": "code",
        "colab": {
          "base_uri": "https://localhost:8080/",
          "height": 468
        },
        "outputId": "52e76946-2694-4595-b015-dd3fb9e93bab"
      },
      "source": [
        "a = full_trip[0:5].str.split(' ')\n",
        "b = full_times[0:5].str.split(' ')\n",
        "c = full_purpose[0:5].str.split(' ')\n",
        "d = test_origs['HID']\n",
        "for i in range(len(a)):\n",
        "  print (d[i])\n",
        "  for j in range(len(a[i])):\n",
        "    mlist = [a[i][j], b[i][j], c[i][j]]\n",
        "    print (mlist)\n",
        "    # print(a[i][j])\n",
        "    # print(b[i][j])\n",
        "    # print(c[i][j])\n",
        "  # for col in row:\n"
      ],
      "execution_count": 22,
      "outputs": [
        {
          "output_type": "stream",
          "text": [
            "1000002_1\n",
            "['4cc8de61f2e92d05', '11:30:00', '6']\n",
            "['4cc8de67553ddeaf', '13:00:00', '11']\n",
            "['4cc8de61f2e92d05', '14:00:00', '6']\n",
            "1000002_2\n",
            "['4cc8de61f2e92d05', '11:30:00', '6']\n",
            "['4cc8de67553ddeaf', '13:00:00', '11']\n",
            "['4cc8de61f2e92d05', '21:00:00', '7']\n",
            "['4cc8dea4fa05383f', '23:00:00', '11']\n",
            "['4cc8de61f2e92d05', '00:00:00', '6']\n",
            "1000013_1\n",
            "['4cc91ea026fa376b', '11:00:00', '5']\n",
            "['4cc91ea19002424f', '11:55:00', '11']\n",
            "['4cc91ea026fa376b', '12:55:00', '5']\n",
            "1000013_2\n",
            "['4cc91ea026fa376b', '07:30:00', '1']\n",
            "['4cc91a5cdca68651', '11:00:00', '2']\n",
            "['4cc91a43c5089bad', '13:30:00', '2']\n",
            "['4cc90f48bf459b03', '15:30:00', '11']\n",
            "['4cc91ea026fa376b', '19:00:00', '6']\n",
            "['4cc8d8d2dcb61c63', '22:00:00', '11']\n",
            "['4cc91ea026fa376b', '23:00:00', '1']\n",
            "1000013_3\n",
            "['4cc9115a5ea8e831', '07:30:00', '4']\n",
            "['4cc91954da4e15e7', '15:00:00', '11']\n",
            "['4cc91ea026fa376b', '16:00:00', '4']\n"
          ],
          "name": "stdout"
        }
      ]
    },
    {
      "cell_type": "code",
      "metadata": {
        "id": "Ionq7U0QBjqQ",
        "colab_type": "code",
        "colab": {}
      },
      "source": [
        "end_dest = test_data.groupby(['HID']).last().reset_index()\n",
        "# test_data['END_TIME'] = (pd.to_datetime( pd.to_timedelta(test_data['DEP_TIME']) + timedelta(hours=1)).dt.round('5min') ).dt.strftime(\"%H:%M:%S\")"
      ],
      "execution_count": 0,
      "outputs": []
    },
    {
      "cell_type": "code",
      "metadata": {
        "id": "p0v0-TMrC7WI",
        "colab_type": "code",
        "colab": {}
      },
      "source": [
        "df_test = pd.merge(test_data, last_records, on='HID', how='outer')\n",
        "# df_outer['TRAVEL'] = df_outer['ORIG'] + ' ' + df_outer['TRIPS']"
      ],
      "execution_count": 0,
      "outputs": []
    },
    {
      "cell_type": "code",
      "metadata": {
        "id": "yvhmPXMxDgmb",
        "colab_type": "code",
        "colab": {}
      },
      "source": [
        "full_trip = test_origs['ORIGS'] + ' ' + end_dest['DEST']\n",
        "full_times = test_times['TIMES'] + ' ' + end_dest['END_TIME']"
      ],
      "execution_count": 0,
      "outputs": []
    },
    {
      "cell_type": "code",
      "metadata": {
        "id": "oyugxRSCF66z",
        "colab_type": "code",
        "colab": {
          "base_uri": "https://localhost:8080/",
          "height": 225
        },
        "outputId": "1615e60b-1d19-4f1e-fcef-29cd66a486af"
      },
      "source": [
        "test_origs['ORIGS']"
      ],
      "execution_count": 111,
      "outputs": [
        {
          "output_type": "execute_result",
          "data": {
            "text/plain": [
              "0                         4cc8de61f2e92d05 4cc8de67553ddeaf\n",
              "1         4cc8de61f2e92d05 4cc8de67553ddeaf 4cc8de61f2e9...\n",
              "2                         4cc91ea026fa376b 4cc91ea19002424f\n",
              "3         4cc91ea026fa376b 4cc91a5cdca68651 4cc91a43c508...\n",
              "4                         4cc9115a5ea8e831 4cc91954da4e15e7\n",
              "                                ...                        \n",
              "139349                    4cc918e0542ef8a1 4cc9498d644bc153\n",
              "139350                    4cc918e0542ef8a1 4cc9498d644bc153\n",
              "139351                    4cc90437a7ae4e23 4cc9067e3e3d137b\n",
              "139352                    4cc91ebe12e3c607 4cc91a6d7b36c175\n",
              "139353    4cc90e5f5618f69f 4cc91a57466e13e9 4cc91a50a16c...\n",
              "Name: ORIGS, Length: 139354, dtype: object"
            ]
          },
          "metadata": {
            "tags": []
          },
          "execution_count": 111
        }
      ]
    },
    {
      "cell_type": "code",
      "metadata": {
        "id": "AKpJ6YVDGQQW",
        "colab_type": "code",
        "colab": {
          "base_uri": "https://localhost:8080/",
          "height": 34
        },
        "outputId": "c27f1458-2ad7-49c2-80b9-a544336bf5d3"
      },
      "source": [
        "full_times[0]"
      ],
      "execution_count": 76,
      "outputs": [
        {
          "output_type": "execute_result",
          "data": {
            "text/plain": [
              "'11:30:00 13:00:00 14:00:00'"
            ]
          },
          "metadata": {
            "tags": []
          },
          "execution_count": 76
        }
      ]
    },
    {
      "cell_type": "code",
      "metadata": {
        "id": "mAJlnWf6Buol",
        "colab_type": "code",
        "colab": {
          "base_uri": "https://localhost:8080/",
          "height": 416
        },
        "outputId": "8dc764f3-613b-4dcf-9989-e0d3fc15d162"
      },
      "source": [
        "last_records"
      ],
      "execution_count": 56,
      "outputs": [
        {
          "output_type": "execute_result",
          "data": {
            "text/html": [
              "<div>\n",
              "<style scoped>\n",
              "    .dataframe tbody tr th:only-of-type {\n",
              "        vertical-align: middle;\n",
              "    }\n",
              "\n",
              "    .dataframe tbody tr th {\n",
              "        vertical-align: top;\n",
              "    }\n",
              "\n",
              "    .dataframe thead th {\n",
              "        text-align: right;\n",
              "    }\n",
              "</style>\n",
              "<table border=\"1\" class=\"dataframe\">\n",
              "  <thead>\n",
              "    <tr style=\"text-align: right;\">\n",
              "      <th></th>\n",
              "      <th>HID</th>\n",
              "      <th>ORIG</th>\n",
              "      <th>DEST</th>\n",
              "      <th>D_HREDE</th>\n",
              "      <th>DEP_TIME</th>\n",
              "    </tr>\n",
              "  </thead>\n",
              "  <tbody>\n",
              "    <tr>\n",
              "      <th>0</th>\n",
              "      <td>1000002_1</td>\n",
              "      <td>4cc8de67553ddeaf</td>\n",
              "      <td>4cc8de61f2e92d05</td>\n",
              "      <td>1300</td>\n",
              "      <td>13:00:00</td>\n",
              "    </tr>\n",
              "    <tr>\n",
              "      <th>1</th>\n",
              "      <td>1000002_2</td>\n",
              "      <td>4cc8dea4fa05383f</td>\n",
              "      <td>4cc8de61f2e92d05</td>\n",
              "      <td>2300</td>\n",
              "      <td>23:00:00</td>\n",
              "    </tr>\n",
              "    <tr>\n",
              "      <th>2</th>\n",
              "      <td>1000013_1</td>\n",
              "      <td>4cc91ea19002424f</td>\n",
              "      <td>4cc91ea026fa376b</td>\n",
              "      <td>1155</td>\n",
              "      <td>11:55:00</td>\n",
              "    </tr>\n",
              "    <tr>\n",
              "      <th>3</th>\n",
              "      <td>1000013_2</td>\n",
              "      <td>4cc8d8d2dcb61c63</td>\n",
              "      <td>4cc91ea026fa376b</td>\n",
              "      <td>2200</td>\n",
              "      <td>22:00:00</td>\n",
              "    </tr>\n",
              "    <tr>\n",
              "      <th>4</th>\n",
              "      <td>1000013_3</td>\n",
              "      <td>4cc91954da4e15e7</td>\n",
              "      <td>4cc91ea026fa376b</td>\n",
              "      <td>1500</td>\n",
              "      <td>15:00:00</td>\n",
              "    </tr>\n",
              "    <tr>\n",
              "      <th>...</th>\n",
              "      <td>...</td>\n",
              "      <td>...</td>\n",
              "      <td>...</td>\n",
              "      <td>...</td>\n",
              "      <td>...</td>\n",
              "    </tr>\n",
              "    <tr>\n",
              "      <th>139349</th>\n",
              "      <td>9033510_1</td>\n",
              "      <td>4cc9498d644bc153</td>\n",
              "      <td>4cc918e0542ef8a1</td>\n",
              "      <td>2400</td>\n",
              "      <td>24:00:00</td>\n",
              "    </tr>\n",
              "    <tr>\n",
              "      <th>139350</th>\n",
              "      <td>9033510_2</td>\n",
              "      <td>4cc9498d644bc153</td>\n",
              "      <td>4cc918e0542ef8a1</td>\n",
              "      <td>2400</td>\n",
              "      <td>24:00:00</td>\n",
              "    </tr>\n",
              "    <tr>\n",
              "      <th>139351</th>\n",
              "      <td>9033848_1</td>\n",
              "      <td>4cc9067e3e3d137b</td>\n",
              "      <td>4cc90437a7ae4e23</td>\n",
              "      <td>2000</td>\n",
              "      <td>20:00:00</td>\n",
              "    </tr>\n",
              "    <tr>\n",
              "      <th>139352</th>\n",
              "      <td>9034248_1</td>\n",
              "      <td>4cc91a6d7b36c175</td>\n",
              "      <td>4cc91ebe4757effb</td>\n",
              "      <td>2115</td>\n",
              "      <td>21:15:00</td>\n",
              "    </tr>\n",
              "    <tr>\n",
              "      <th>139353</th>\n",
              "      <td>9057507_1</td>\n",
              "      <td>4cc90e8b5da40229</td>\n",
              "      <td>4cc90e5f5618f69f</td>\n",
              "      <td>1800</td>\n",
              "      <td>18:00:00</td>\n",
              "    </tr>\n",
              "  </tbody>\n",
              "</table>\n",
              "<p>139354 rows × 5 columns</p>\n",
              "</div>"
            ],
            "text/plain": [
              "              HID              ORIG              DEST  D_HREDE  DEP_TIME\n",
              "0       1000002_1  4cc8de67553ddeaf  4cc8de61f2e92d05     1300  13:00:00\n",
              "1       1000002_2  4cc8dea4fa05383f  4cc8de61f2e92d05     2300  23:00:00\n",
              "2       1000013_1  4cc91ea19002424f  4cc91ea026fa376b     1155  11:55:00\n",
              "3       1000013_2  4cc8d8d2dcb61c63  4cc91ea026fa376b     2200  22:00:00\n",
              "4       1000013_3  4cc91954da4e15e7  4cc91ea026fa376b     1500  15:00:00\n",
              "...           ...               ...               ...      ...       ...\n",
              "139349  9033510_1  4cc9498d644bc153  4cc918e0542ef8a1     2400  24:00:00\n",
              "139350  9033510_2  4cc9498d644bc153  4cc918e0542ef8a1     2400  24:00:00\n",
              "139351  9033848_1  4cc9067e3e3d137b  4cc90437a7ae4e23     2000  20:00:00\n",
              "139352  9034248_1  4cc91a6d7b36c175  4cc91ebe4757effb     2115  21:15:00\n",
              "139353  9057507_1  4cc90e8b5da40229  4cc90e5f5618f69f     1800  18:00:00\n",
              "\n",
              "[139354 rows x 5 columns]"
            ]
          },
          "metadata": {
            "tags": []
          },
          "execution_count": 56
        }
      ]
    },
    {
      "cell_type": "code",
      "metadata": {
        "id": "JZNBOPDNvKyI",
        "colab_type": "code",
        "colab": {
          "base_uri": "https://localhost:8080/",
          "height": 416
        },
        "outputId": "8935c212-8e68-4896-d3a9-b8dd22fc583d"
      },
      "source": [
        "test_times"
      ],
      "execution_count": 47,
      "outputs": [
        {
          "output_type": "execute_result",
          "data": {
            "text/html": [
              "<div>\n",
              "<style scoped>\n",
              "    .dataframe tbody tr th:only-of-type {\n",
              "        vertical-align: middle;\n",
              "    }\n",
              "\n",
              "    .dataframe tbody tr th {\n",
              "        vertical-align: top;\n",
              "    }\n",
              "\n",
              "    .dataframe thead th {\n",
              "        text-align: right;\n",
              "    }\n",
              "</style>\n",
              "<table border=\"1\" class=\"dataframe\">\n",
              "  <thead>\n",
              "    <tr style=\"text-align: right;\">\n",
              "      <th></th>\n",
              "      <th>HID</th>\n",
              "      <th>TIMES</th>\n",
              "    </tr>\n",
              "  </thead>\n",
              "  <tbody>\n",
              "    <tr>\n",
              "      <th>0</th>\n",
              "      <td>1000002_1</td>\n",
              "      <td>11:30:00 13:00:00</td>\n",
              "    </tr>\n",
              "    <tr>\n",
              "      <th>1</th>\n",
              "      <td>1000002_2</td>\n",
              "      <td>11:30:00 13:00:00 21:00:00 23:00:00</td>\n",
              "    </tr>\n",
              "    <tr>\n",
              "      <th>2</th>\n",
              "      <td>1000013_1</td>\n",
              "      <td>11:00:00 11:55:00</td>\n",
              "    </tr>\n",
              "    <tr>\n",
              "      <th>3</th>\n",
              "      <td>1000013_2</td>\n",
              "      <td>07:30:00 11:00:00 13:30:00 15:30:00 19:00:00 2...</td>\n",
              "    </tr>\n",
              "    <tr>\n",
              "      <th>4</th>\n",
              "      <td>1000013_3</td>\n",
              "      <td>07:30:00 15:00:00</td>\n",
              "    </tr>\n",
              "    <tr>\n",
              "      <th>...</th>\n",
              "      <td>...</td>\n",
              "      <td>...</td>\n",
              "    </tr>\n",
              "    <tr>\n",
              "      <th>139349</th>\n",
              "      <td>9033510_1</td>\n",
              "      <td>16:00:00 24:00:00</td>\n",
              "    </tr>\n",
              "    <tr>\n",
              "      <th>139350</th>\n",
              "      <td>9033510_2</td>\n",
              "      <td>16:00:00 24:00:00</td>\n",
              "    </tr>\n",
              "    <tr>\n",
              "      <th>139351</th>\n",
              "      <td>9033848_1</td>\n",
              "      <td>12:00:00 20:00:00</td>\n",
              "    </tr>\n",
              "    <tr>\n",
              "      <th>139352</th>\n",
              "      <td>9034248_1</td>\n",
              "      <td>15:15:00 21:15:00</td>\n",
              "    </tr>\n",
              "    <tr>\n",
              "      <th>139353</th>\n",
              "      <td>9057507_1</td>\n",
              "      <td>07:15:00 10:05:00 10:25:00 16:30:00 18:00:00</td>\n",
              "    </tr>\n",
              "  </tbody>\n",
              "</table>\n",
              "<p>139354 rows × 2 columns</p>\n",
              "</div>"
            ],
            "text/plain": [
              "              HID                                              TIMES\n",
              "0       1000002_1                                  11:30:00 13:00:00\n",
              "1       1000002_2                11:30:00 13:00:00 21:00:00 23:00:00\n",
              "2       1000013_1                                  11:00:00 11:55:00\n",
              "3       1000013_2  07:30:00 11:00:00 13:30:00 15:30:00 19:00:00 2...\n",
              "4       1000013_3                                  07:30:00 15:00:00\n",
              "...           ...                                                ...\n",
              "139349  9033510_1                                  16:00:00 24:00:00\n",
              "139350  9033510_2                                  16:00:00 24:00:00\n",
              "139351  9033848_1                                  12:00:00 20:00:00\n",
              "139352  9034248_1                                  15:15:00 21:15:00\n",
              "139353  9057507_1       07:15:00 10:05:00 10:25:00 16:30:00 18:00:00\n",
              "\n",
              "[139354 rows x 2 columns]"
            ]
          },
          "metadata": {
            "tags": []
          },
          "execution_count": 47
        }
      ]
    },
    {
      "cell_type": "code",
      "metadata": {
        "id": "hv7F68afveiG",
        "colab_type": "code",
        "colab": {
          "base_uri": "https://localhost:8080/",
          "height": 416
        },
        "outputId": "fdef867a-dcb3-47af-f7a1-b5a17e6eab9b"
      },
      "source": [
        "test_origs"
      ],
      "execution_count": 49,
      "outputs": [
        {
          "output_type": "execute_result",
          "data": {
            "text/html": [
              "<div>\n",
              "<style scoped>\n",
              "    .dataframe tbody tr th:only-of-type {\n",
              "        vertical-align: middle;\n",
              "    }\n",
              "\n",
              "    .dataframe tbody tr th {\n",
              "        vertical-align: top;\n",
              "    }\n",
              "\n",
              "    .dataframe thead th {\n",
              "        text-align: right;\n",
              "    }\n",
              "</style>\n",
              "<table border=\"1\" class=\"dataframe\">\n",
              "  <thead>\n",
              "    <tr style=\"text-align: right;\">\n",
              "      <th></th>\n",
              "      <th>HID</th>\n",
              "      <th>ORIGS</th>\n",
              "    </tr>\n",
              "  </thead>\n",
              "  <tbody>\n",
              "    <tr>\n",
              "      <th>0</th>\n",
              "      <td>1000002_1</td>\n",
              "      <td>4cc8de61f2e92d05 4cc8de67553ddeaf</td>\n",
              "    </tr>\n",
              "    <tr>\n",
              "      <th>1</th>\n",
              "      <td>1000002_2</td>\n",
              "      <td>4cc8de61f2e92d05 4cc8de67553ddeaf 4cc8de61f2e9...</td>\n",
              "    </tr>\n",
              "    <tr>\n",
              "      <th>2</th>\n",
              "      <td>1000013_1</td>\n",
              "      <td>4cc91ea026fa376b 4cc91ea19002424f</td>\n",
              "    </tr>\n",
              "    <tr>\n",
              "      <th>3</th>\n",
              "      <td>1000013_2</td>\n",
              "      <td>4cc91ea026fa376b 4cc91a5cdca68651 4cc91a43c508...</td>\n",
              "    </tr>\n",
              "    <tr>\n",
              "      <th>4</th>\n",
              "      <td>1000013_3</td>\n",
              "      <td>4cc9115a5ea8e831 4cc91954da4e15e7</td>\n",
              "    </tr>\n",
              "    <tr>\n",
              "      <th>...</th>\n",
              "      <td>...</td>\n",
              "      <td>...</td>\n",
              "    </tr>\n",
              "    <tr>\n",
              "      <th>139349</th>\n",
              "      <td>9033510_1</td>\n",
              "      <td>4cc918e0542ef8a1 4cc9498d644bc153</td>\n",
              "    </tr>\n",
              "    <tr>\n",
              "      <th>139350</th>\n",
              "      <td>9033510_2</td>\n",
              "      <td>4cc918e0542ef8a1 4cc9498d644bc153</td>\n",
              "    </tr>\n",
              "    <tr>\n",
              "      <th>139351</th>\n",
              "      <td>9033848_1</td>\n",
              "      <td>4cc90437a7ae4e23 4cc9067e3e3d137b</td>\n",
              "    </tr>\n",
              "    <tr>\n",
              "      <th>139352</th>\n",
              "      <td>9034248_1</td>\n",
              "      <td>4cc91ebe12e3c607 4cc91a6d7b36c175</td>\n",
              "    </tr>\n",
              "    <tr>\n",
              "      <th>139353</th>\n",
              "      <td>9057507_1</td>\n",
              "      <td>4cc90e5f5618f69f 4cc91a57466e13e9 4cc91a50a16c...</td>\n",
              "    </tr>\n",
              "  </tbody>\n",
              "</table>\n",
              "<p>139354 rows × 2 columns</p>\n",
              "</div>"
            ],
            "text/plain": [
              "              HID                                              ORIGS\n",
              "0       1000002_1                  4cc8de61f2e92d05 4cc8de67553ddeaf\n",
              "1       1000002_2  4cc8de61f2e92d05 4cc8de67553ddeaf 4cc8de61f2e9...\n",
              "2       1000013_1                  4cc91ea026fa376b 4cc91ea19002424f\n",
              "3       1000013_2  4cc91ea026fa376b 4cc91a5cdca68651 4cc91a43c508...\n",
              "4       1000013_3                  4cc9115a5ea8e831 4cc91954da4e15e7\n",
              "...           ...                                                ...\n",
              "139349  9033510_1                  4cc918e0542ef8a1 4cc9498d644bc153\n",
              "139350  9033510_2                  4cc918e0542ef8a1 4cc9498d644bc153\n",
              "139351  9033848_1                  4cc90437a7ae4e23 4cc9067e3e3d137b\n",
              "139352  9034248_1                  4cc91ebe12e3c607 4cc91a6d7b36c175\n",
              "139353  9057507_1  4cc90e5f5618f69f 4cc91a57466e13e9 4cc91a50a16c...\n",
              "\n",
              "[139354 rows x 2 columns]"
            ]
          },
          "metadata": {
            "tags": []
          },
          "execution_count": 49
        }
      ]
    },
    {
      "cell_type": "code",
      "metadata": {
        "id": "gaQ1VzM2riky",
        "colab_type": "code",
        "colab": {
          "base_uri": "https://localhost:8080/",
          "height": 138
        },
        "outputId": "5bfd8972-7985-4136-d8d5-ba9f769c7e23"
      },
      "source": [
        "test_data[['ORIG', 'D_HREDE']].values"
      ],
      "execution_count": 34,
      "outputs": [
        {
          "output_type": "execute_result",
          "data": {
            "text/plain": [
              "array([['4cc8de61f2e92d05', 1130],\n",
              "       ['4cc8de67553ddeaf', 1300],\n",
              "       ['4cc8de61f2e92d05', 1130],\n",
              "       ...,\n",
              "       ['4cc91a50a16ccfd9', 1025],\n",
              "       ['4cc91a57466e13e9', 1630],\n",
              "       ['4cc90e8b5da40229', 1800]], dtype=object)"
            ]
          },
          "metadata": {
            "tags": []
          },
          "execution_count": 34
        }
      ]
    },
    {
      "cell_type": "markdown",
      "metadata": {
        "id": "Dbn-YwJNP4--",
        "colab_type": "text"
      },
      "source": [
        "**Normalize numeric variables**"
      ]
    },
    {
      "cell_type": "code",
      "metadata": {
        "id": "6jxwpL-gQBIl",
        "colab_type": "code",
        "colab": {}
      },
      "source": [
        "mm_scaler = preprocessing.MinMaxScaler()\n",
        "X_train_minmax = mm_scaler.fit_transform(X_train)\n",
        "mm_scaler.transform(X_test)"
      ],
      "execution_count": 0,
      "outputs": []
    },
    {
      "cell_type": "code",
      "metadata": {
        "id": "m-QLbvjqRIzn",
        "colab_type": "code",
        "colab": {}
      },
      "source": [
        "scaler_olng=scaler_olat=scaler_dlng=scaler_dlat = MinMaxScaler()"
      ],
      "execution_count": 0,
      "outputs": []
    },
    {
      "cell_type": "code",
      "metadata": {
        "id": "QfvrG8JmSN-Z",
        "colab_type": "code",
        "colab": {}
      },
      "source": [
        "sc_olat = scaler_olat.fit_transform(train_data['S_ORIG_LAT'].values.reshape(-1,1))\n",
        "sc_olng = scaler_olng.fit_transform(train_data['S_ORIG_LON'].values.reshape(-1,1))\n",
        "sc_dlat = scaler_dlat.fit_transform(train_data['S_DEST_LAT'].values.reshape(-1,1))\n",
        "sc_dlng = scaler_dlng.fit_transform(train_data['S_DEST_LON'].values.reshape(-1,1))"
      ],
      "execution_count": 0,
      "outputs": []
    },
    {
      "cell_type": "code",
      "metadata": {
        "id": "zZiE8DlfU6Re",
        "colab_type": "code",
        "colab": {}
      },
      "source": [
        "df_hid = train_data['HID']\n",
        "num_cols = np.concatenate((sc_olat, sc_olng, sc_dlat, sc_dlng), axis=1)\n",
        "normalized_df = pd.DataFrame(num_cols, columns=[\"Orig_Lat\", \"Orig_Lng\", \"Dest_Lat\", \"Dest_Lng\"])\n",
        "df = pd.concat([df_hid, normalized_df], axis=1)"
      ],
      "execution_count": 0,
      "outputs": []
    },
    {
      "cell_type": "code",
      "metadata": {
        "id": "7BHeAdCAcGRT",
        "colab_type": "code",
        "colab": {}
      },
      "source": [
        "_t = df[['Orig_Lat', 'Orig_Lng', 'Dest_Lat', 'Dest_Lng']].values.tolist()"
      ],
      "execution_count": 0,
      "outputs": []
    },
    {
      "cell_type": "code",
      "metadata": {
        "id": "LKvldwyVXAdC",
        "colab_type": "code",
        "outputId": "72401059-d9e8-401a-d18d-7d6aafb09da8",
        "colab": {
          "base_uri": "https://localhost:8080/",
          "height": 34
        }
      },
      "source": [
        "normalized_df.columns"
      ],
      "execution_count": 0,
      "outputs": [
        {
          "output_type": "execute_result",
          "data": {
            "text/plain": [
              "Index(['Orig_Lat', 'Orig_Lng', 'Dest_Lat', 'Dest_Lng'], dtype='object')"
            ]
          },
          "metadata": {
            "tags": []
          },
          "execution_count": 61
        }
      ]
    },
    {
      "cell_type": "code",
      "metadata": {
        "id": "9nqUz_8CrXFU",
        "colab_type": "code",
        "colab": {}
      },
      "source": [
        "_s = df.groupby('HID')['Orig_Lat', 'Orig_Lng', 'Dest_Lat', 'Dest_Lng'].apply(pd.Series.tolist).tolist()"
      ],
      "execution_count": 0,
      "outputs": []
    },
    {
      "cell_type": "code",
      "metadata": {
        "id": "tWL4vHLtrmhb",
        "colab_type": "code",
        "colab": {}
      },
      "source": [
        "from keras.preprocessing.sequence import pad_sequences\n",
        "\n",
        "trips_seq = pad_sequences(_s, maxlen=15)"
      ],
      "execution_count": 0,
      "outputs": []
    },
    {
      "cell_type": "code",
      "metadata": {
        "id": "A-jNFC9kLdPO",
        "colab_type": "code",
        "colab": {}
      },
      "source": [
        "train_data['D_HREDE'] = train_data['D_HREDE'].map(int).astype(str).str.zfill(4).str[:2] + ':' + train_data['D_HREDE'].map(int).astype(str).str.zfill(4).str[2:] + ':00'\n",
        "train_data['DEP_TIME'] = pd.to_datetime( pd.to_timedelta(train_data['D_HREDE']).dt.round('5min') ).dt.strftime(\"%H:%M:%S\")\n",
        "train_data['TRIP'] = train_data[['ORIG', 'DEST', 'DEP_TIME']].values.tolist()"
      ],
      "execution_count": 0,
      "outputs": []
    },
    {
      "cell_type": "code",
      "metadata": {
        "id": "QGkAZBCOLl2H",
        "colab_type": "code",
        "outputId": "68faf952-9a3d-45dd-e8ef-a95381d98ea7",
        "colab": {
          "base_uri": "https://localhost:8080/",
          "height": 52
        }
      },
      "source": [
        "train_data['D_HREDE'] = train_data['D_HREDE'].map(int).astype(str).str.zfill(4).str[:2] + ':' + train_data['D_HREDE'].map(int).astype(str).str.zfill(4).str[2:] + ':00'\n",
        "train_data['DEP_TIME'] = pd.to_datetime( pd.to_timedelta(train_data['D_HREDE']).dt.round('5min') ).dt.strftime(\"%H:%M:%S\")\n",
        "trips_data = train_data.groupby('HID')['DEST'].apply(' '.join).reset_index(name='TRIPS')\n",
        "first_records = train_data.groupby(['HID']).first().reset_index()\n",
        "\n",
        "df_outer = pd.merge(trips_data, first_records, on='HID', how='outer')\n",
        "df_outer['TRAVEL'] = df_outer['ORIG'] + ' ' + df_outer['TRIPS']\n",
        "\n",
        "cols = ['P_SEXE', 'P_AGE', 'P_STATUT', 'P_PERMIS', 'P_MOBIL', 'D_HREDE', 'ZT03', 'TRAVEL']\n",
        "trips_data = df_outer[cols]"
      ],
      "execution_count": 8,
      "outputs": [
        {
          "output_type": "stream",
          "text": [
            "/usr/local/lib/python3.6/dist-packages/pandas/util/_decorators.py:208: FutureWarning: Passing timedelta64-dtype data is deprecated, will raise a TypeError in a future version\n",
            "  return func(*args, **kwargs)\n"
          ],
          "name": "stderr"
        }
      ]
    },
    {
      "cell_type": "code",
      "metadata": {
        "id": "7_i23q6VpRzl",
        "colab_type": "code",
        "colab": {}
      },
      "source": [
        "trips_data\n"
      ],
      "execution_count": 0,
      "outputs": []
    },
    {
      "cell_type": "code",
      "metadata": {
        "id": "lC7_LXPXSetx",
        "colab_type": "code",
        "colab": {}
      },
      "source": [
        "# df_outer['TRAVEL'].to_csv('drive/My Drive/ThesisProposal/export_trip_101119.csv', index = None, header=True)\n",
        "# SEQUENCE LENGTH CLEANUP\n",
        "df_outer['LEN'] = len(df_outer['TRAVEL'].str.split(' '))\n",
        "dt = df_outer.copy()\n",
        "dt[['LEN']] = dt.apply(lambda row:int(len(row['TRAVEL'].split(' '))), axis=1).apply(pd.Series)\n",
        "# Delete sequences of length = 2\n",
        "trips_data = dt[dt.LEN != 2]"
      ],
      "execution_count": 0,
      "outputs": []
    },
    {
      "cell_type": "code",
      "metadata": {
        "id": "Bgk-ayLHhaR0",
        "colab_type": "code",
        "colab": {}
      },
      "source": [
        "trips_data['TRAVEL'].to_csv('drive/My Drive/ThesisProposal/export_trip_251119.csv', index = None, header=True)"
      ],
      "execution_count": 0,
      "outputs": []
    },
    {
      "cell_type": "code",
      "metadata": {
        "id": "Ad9Ht1lntt5F",
        "colab_type": "code",
        "outputId": "ca6e8d9f-f091-436a-a1e2-3cbb71c23b51",
        "colab": {
          "base_uri": "https://localhost:8080/",
          "height": 34
        }
      },
      "source": [
        "trips_data.shape"
      ],
      "execution_count": 0,
      "outputs": [
        {
          "output_type": "execute_result",
          "data": {
            "text/plain": [
              "(133474, 26)"
            ]
          },
          "metadata": {
            "tags": []
          },
          "execution_count": 16
        }
      ]
    },
    {
      "cell_type": "markdown",
      "metadata": {
        "id": "U6MEqgDo87Zw",
        "colab_type": "text"
      },
      "source": [
        "Prefix Tree"
      ]
    },
    {
      "cell_type": "code",
      "metadata": {
        "id": "P183k9ID8-a8",
        "colab_type": "code",
        "colab": {}
      },
      "source": [
        "from typing import Tuple\n",
        "\n",
        "class TrieNode(object):\n",
        "    \"\"\"\n",
        "    Our trie node implementation. Very basic. but does the job\n",
        "    \"\"\"\n",
        "    \n",
        "    def __init__(self, loc: str, trip_data=None, epsilon=None):\n",
        "        self.loc = loc\n",
        "        self.children = []\n",
        "        # Is it the last character of the word.`\n",
        "        self.trip_ended = False\n",
        "        # How many times this character appeared in the addition process\n",
        "        self.counter = 1\n",
        "        # dataset of trip chain\n",
        "        self.trip_data = trip_data\n",
        "        # trajectories in the database\n",
        "        self.trajectories = self.add_trajectories()\n",
        "        # set privacy budget, epsilon\n",
        "        self.epsilon = epsilon\n",
        "        # set height of prefix tree, h\n",
        "        self.h = 10\n",
        "        # set privacy budget allocation\n",
        "        self.budget_allocation = self.get_privacy_allocation()\n",
        "        # set noisy counter for nodes\n",
        "        self.noisy_counter = 1\n",
        "        # location taxononmy tree\n",
        "        # self.location_tree = self.location_taxonomy()\n",
        "        # set level of node\n",
        "        self.level = 0\n",
        "\n",
        "    def location_taxonomy(self):\n",
        "      m = self.trip_data.str.split(' ').tolist()\n",
        "      m = [i for j in m for i in j]\n",
        "      n = np.unique(np.array(m))\n",
        "      return n\n",
        "\n",
        "    def add_trajectories(self):\n",
        "      traj = None\n",
        "      if self.trip_data is not None:\n",
        "        # traj = self.trip_data.tolist()\n",
        "        traj = self.trip_data\n",
        "        return traj\n",
        "      return None\n",
        "\n",
        "    def get_privacy_allocation(self):\n",
        "      priv_alloc = None\n",
        "      if self.epsilon is not None:\n",
        "        priv_alloc = self.epsilon / self.h\n",
        "      return priv_alloc\n",
        "\n",
        "    def get_noisy_count(in_count):\n",
        "      noise_count = in_count\n",
        "    \n",
        "    \n",
        "\n",
        "def add(root, trip: str):\n",
        "    \"\"\"\n",
        "    Adding a word in the trie structure\n",
        "    \"\"\"\n",
        "    node = root\n",
        "    # print(trip)\n",
        "    for loc in trip:\n",
        "        # print (loc)\n",
        "        found_in_child = False\n",
        "        # Search for the character in the children of the present `node`\n",
        "        for child in node.children:\n",
        "            if child.loc == loc:\n",
        "                # We found it, increase the counter by 1 to keep track that another\n",
        "                # word has it as well\n",
        "                child.counter += 1\n",
        "                # And point the node to the child that contains this char\n",
        "                node = child\n",
        "                found_in_child = True\n",
        "                break\n",
        "        # We did not find it so add a new chlid\n",
        "        if not found_in_child:\n",
        "            new_node = TrieNode(loc)\n",
        "            node.children.append(new_node)\n",
        "            if node == root:\n",
        "              new_node.level = 1\n",
        "            # And then point node to the new child\n",
        "            node = new_node\n",
        "    # Everything finished. Mark it as the end of a word.\n",
        "    node.trip_ended = True\n",
        "\n",
        "\n",
        "def traverse(root, prefix):\n",
        "  result = []\n",
        "  if root.isEnd:\n",
        "      result.append(prefix[:])\n",
        "  for c,n in root.children.items():\n",
        "      prefix.append(c)\n",
        "      self.traverse(n, prefix, result)\n",
        "      prefix.pop(-1)\n",
        "  return [''.join(r) for r in result]\n",
        "\n",
        "\n",
        "def find_prefix(root, prefix: str) -> Tuple[bool, int]:\n",
        "    \"\"\"\n",
        "    Check and return \n",
        "      1. If the prefix exists in any of the words we added so far\n",
        "      2. If yes then how may words actually have the prefix\n",
        "    \"\"\"\n",
        "    node = root\n",
        "    # If the root node has no children, then return False.\n",
        "    # Because it means we are trying to search in an empty trie\n",
        "    if not root.children:\n",
        "        return False, 0\n",
        "    for loc in prefix:\n",
        "        char_not_found = True\n",
        "        # Search through all the children of the present `node`\n",
        "        for child in node.children:\n",
        "            if child.loc == loc:\n",
        "                # We found the char existing in the child.\n",
        "                char_not_found = False\n",
        "                # Assign node as the child containing the char and break\n",
        "                node = child\n",
        "                break\n",
        "        # Return False anyway when we did not find a char.\n",
        "        if char_not_found:\n",
        "            return False, 0\n",
        "    # Well, we are here means we have found the prefix. Return true to indicate that\n",
        "    # And also the counter of the last node. This indicates how many words have this\n",
        "    # prefix\n",
        "    # return True, node.counter\n",
        "    return node"
      ],
      "execution_count": 0,
      "outputs": []
    },
    {
      "cell_type": "code",
      "metadata": {
        "id": "5txIyXXqbpY1",
        "colab_type": "code",
        "colab": {}
      },
      "source": [
        ""
      ],
      "execution_count": 0,
      "outputs": []
    },
    {
      "cell_type": "code",
      "metadata": {
        "id": "oTN4q81A4gxm",
        "colab_type": "code",
        "colab": {}
      },
      "source": [
        "# SEQUENCE LENGTH CLEANUP\n",
        "df_outer['LEN'] = len(df_outer['TRAVEL'].str.split(' '))\n",
        "dt = df_outer.copy()\n",
        "dt[['LEN']] = dt.apply(lambda row:int(len(row['TRAVEL'].split(' '))), axis=1).apply(pd.Series)\n",
        "# Delete sequences of length = 2\n",
        "trips_data = dt[dt.LEN != 2]"
      ],
      "execution_count": 0,
      "outputs": []
    },
    {
      "cell_type": "code",
      "metadata": {
        "id": "W7yZfGkMjbQb",
        "colab_type": "code",
        "colab": {}
      },
      "source": [
        "# ADD DATA TO PREFIX TREE\n",
        "m = trips_data['TRAVEL']\n",
        "root = TrieNode('*', epsilon=0.1, trip_data=m)\n",
        "# add nodes to PT\n",
        "for index, row in trips_data.head(100).iterrows():\n",
        "    add(root, row['TRAVEL'].split(' '))"
      ],
      "execution_count": 0,
      "outputs": []
    },
    {
      "cell_type": "code",
      "metadata": {
        "id": "SM1AebkF5o1Q",
        "colab_type": "code",
        "colab": {}
      },
      "source": [
        "#ADD NOISE TO ROOT COUNTER NODES\n",
        "\n",
        "# Gets random laplacian noise for all values\n",
        "location = 1.0\n",
        "scale = 1.0\n",
        "noise = np.random.laplace(location,scale, len(root.children))\n",
        "\n",
        "index = 0\n",
        "for child in root.children:\n",
        "  child.noisy_counter = int(child.counter + noise[index])\n",
        "  print(child.loc, child.counter, child.noisy_counter, [a.loc for a in child.children])\n",
        "  index = index + 1"
      ],
      "execution_count": 0,
      "outputs": []
    },
    {
      "cell_type": "code",
      "metadata": {
        "id": "J0zO1w2yYW-L",
        "colab_type": "code",
        "colab": {}
      },
      "source": [
        "# Get empty nodes\n",
        "empty_nodes = []\n",
        "threshold = 3 \n",
        "\n",
        "for child in root.children:\n",
        "  if child.noisy_counter >= threshold:\n",
        "    empty_nodes.append(child)\n",
        "  child.noisy_counter = int(child.counter + noise[index])\n",
        "  print(child.loc, child.counter, child.noisy_counter, [a.loc for a in child.children])\n",
        "\n",
        "# Get non-empty nodes "
      ],
      "execution_count": 0,
      "outputs": []
    },
    {
      "cell_type": "code",
      "metadata": {
        "id": "ugSbKmHim6l2",
        "colab_type": "code",
        "outputId": "799e0bde-bfc7-41e6-fcca-ffb01ba6c573",
        "colab": {
          "base_uri": "https://localhost:8080/",
          "height": 69
        }
      },
      "source": [
        "v = np.random.exponential(1, 43 ) \n",
        "np.random.laplace(scale=10, size=43)\n",
        "np.random.exponential(100,10)"
      ],
      "execution_count": 0,
      "outputs": [
        {
          "output_type": "execute_result",
          "data": {
            "text/plain": [
              "array([ 94.17648353, 186.17961014,  69.02215538, 170.53829771,\n",
              "       197.70982627,  13.86274166, 187.00315051, 231.50771029,\n",
              "        42.14003232,   4.80329335])"
            ]
          },
          "metadata": {
            "tags": []
          },
          "execution_count": 154
        }
      ]
    },
    {
      "cell_type": "code",
      "metadata": {
        "id": "VLt25qBHKdwQ",
        "colab_type": "code",
        "colab": {}
      },
      "source": [
        "v"
      ],
      "execution_count": 0,
      "outputs": []
    },
    {
      "cell_type": "code",
      "metadata": {
        "id": "pV6BLRAiA4gL",
        "colab_type": "code",
        "colab": {}
      },
      "source": [
        "root = TrieNode('*')\n",
        "for index, row in trips_data.head(100).iterrows():\n",
        "    add(root, row['TRAVEL'].split(' '))"
      ],
      "execution_count": 0,
      "outputs": []
    },
    {
      "cell_type": "code",
      "metadata": {
        "id": "XqM1PslXkW73",
        "colab_type": "code",
        "colab": {}
      },
      "source": [
        "for index, row in trips_data.head(100).iterrows():\n",
        "    add(root, row['TRAVEL'].split(' '))"
      ],
      "execution_count": 0,
      "outputs": []
    },
    {
      "cell_type": "code",
      "metadata": {
        "id": "dwq7LX22lVJP",
        "colab_type": "code",
        "colab": {}
      },
      "source": [
        "st = '4cc91ea026fa376b 4cc91a5cdca68651 4cc91a43c5089bad 4cc90f48bf459b03 4cc91ea026fa376b 4cc8d8d2dcb61c63 4cc91ea026fa376b'\n",
        "st = st.split(' ')\n",
        "# print(find_prefix(root, st))\n",
        "_s = find_prefix(root, st)"
      ],
      "execution_count": 0,
      "outputs": []
    },
    {
      "cell_type": "code",
      "metadata": {
        "id": "_gZEK9Mv1d4K",
        "colab_type": "code",
        "outputId": "a69bf438-163d-4ce3-bc28-e698cb93e97b",
        "colab": {
          "base_uri": "https://localhost:8080/",
          "height": 797
        }
      },
      "source": [
        "[[child.loc, child.counter] for child in root.children]"
      ],
      "execution_count": 0,
      "outputs": [
        {
          "output_type": "execute_result",
          "data": {
            "text/plain": [
              "[['4cc8de61f2e92d05', 2],\n",
              " ['4cc91ea026fa376b', 2],\n",
              " ['4cc9115a5ea8e831', 1],\n",
              " ['4cc91e850fe0abcb', 7],\n",
              " ['4cc91a7ff19ec4df', 2],\n",
              " ['4cc9220723ee35db', 1],\n",
              " ['4cc904cb5970c637', 2],\n",
              " ['4cc92f8d16a7a8cb', 2],\n",
              " ['4cc9a1841cfbadf1', 2],\n",
              " ['4ccf318592063b57', 1],\n",
              " ['4cc92bbdf2c5a267', 3],\n",
              " ['4cc9225128e9b4fb', 3],\n",
              " ['4cc9161456a894c9', 2],\n",
              " ['4cc9068798fe9819', 1],\n",
              " ['4cc910ae61895893', 3],\n",
              " ['4cc8e5e9c467c2b1', 2],\n",
              " ['4cc926e695fa1537', 1],\n",
              " ['4ccf2b59e4981619', 1],\n",
              " ['4ccf2cf0c9f2d64d', 2],\n",
              " ['4cc94c208c8ba191', 1],\n",
              " ['4cc9123b404f4eb7', 2],\n",
              " ['4cc90f4473403dd7', 2],\n",
              " ['4cc9121d7ec9671d', 1],\n",
              " ['4cc9250b96642447', 2],\n",
              " ['4cc8deaf334b670b', 2],\n",
              " ['4cc919c22755c74d', 4],\n",
              " ['4cc91fa04a370f9b', 1],\n",
              " ['4cc922b63fe61d73', 1],\n",
              " ['4cc9253b4fcbe8a9', 4],\n",
              " ['4cc934e385cedcbd', 2],\n",
              " ['4cc921d989b3e455', 3],\n",
              " ['4cc9059a60defe95', 4],\n",
              " ['4cc91f86d5662339', 1],\n",
              " ['4cc91c3f7b254645', 1],\n",
              " ['4cc91e6e6bd3faa9', 1],\n",
              " ['4cc9161706e6cbcb', 4],\n",
              " ['4cc9214cfcaa3893', 4],\n",
              " ['4cc91b3dc982d39f', 1],\n",
              " ['4cc91975ec31a3ab', 3],\n",
              " ['4cc91bd9a6875d29', 4],\n",
              " ['4cc91bf7f7c67827', 2],\n",
              " ['4cc91908bc4c2cf3', 4],\n",
              " ['4cc918530fcec9e7', 4],\n",
              " ['4cc91e83625ac3dd', 1],\n",
              " ['4cc8e22f8ba54b27', 1]]"
            ]
          },
          "metadata": {
            "tags": []
          },
          "execution_count": 188
        }
      ]
    },
    {
      "cell_type": "code",
      "metadata": {
        "id": "W67fGvXbJ46W",
        "colab_type": "code",
        "colab": {}
      },
      "source": [
        "# for r in root.children:\n",
        "index = 0\n",
        "for child in root.children:\n",
        "  child.noisy_counter = child.counter + v[index]\n",
        "  print(child.loc, child.counter, child.noisy_counter, child.level, [a.loc for a in child.children])\n",
        "  index = index + 1"
      ],
      "execution_count": 0,
      "outputs": []
    },
    {
      "cell_type": "code",
      "metadata": {
        "id": "gZ_96Sqz1sBF",
        "colab_type": "code",
        "colab": {}
      },
      "source": [
        "trips_data['TRAVEL'].head(20)"
      ],
      "execution_count": 0,
      "outputs": []
    },
    {
      "cell_type": "code",
      "metadata": {
        "id": "LJ0aXveLk8b_",
        "colab_type": "code",
        "outputId": "22f1fb29-c733-4941-c358-4414a5bafde4",
        "colab": {
          "base_uri": "https://localhost:8080/",
          "height": 69
        }
      },
      "source": [
        "root.location_tree"
      ],
      "execution_count": 0,
      "outputs": [
        {
          "output_type": "execute_result",
          "data": {
            "text/plain": [
              "array(['4cb04e7fa5f86917', '4cb636ee9cc426af', '4cb7b30e962b92bd', ...,\n",
              "       '4ccf4dd9395872a9', '4ccf623082f2efc1', '4ccf762b16eb59ab'],\n",
              "      dtype='<U16')"
            ]
          },
          "metadata": {
            "tags": []
          },
          "execution_count": 33
        }
      ]
    },
    {
      "cell_type": "code",
      "metadata": {
        "id": "kxgjORV7b3oo",
        "colab_type": "code",
        "colab": {}
      },
      "source": [
        "# for r in root.children:\n",
        "node = root\n",
        "for child in node.children:\n",
        "  print(child.loc, child.counter, [[a.loc, a.counter] for a in child.children])"
      ],
      "execution_count": 0,
      "outputs": []
    },
    {
      "cell_type": "code",
      "metadata": {
        "id": "x7vqgRwbDf_3",
        "colab_type": "code",
        "colab": {}
      },
      "source": [
        ""
      ],
      "execution_count": 0,
      "outputs": []
    },
    {
      "cell_type": "code",
      "metadata": {
        "id": "u37rw0v0neGj",
        "colab_type": "code",
        "colab": {}
      },
      "source": [
        ""
      ],
      "execution_count": 0,
      "outputs": []
    },
    {
      "cell_type": "code",
      "metadata": {
        "id": "kGjG0ILtkNFr",
        "colab_type": "code",
        "outputId": "c05009bb-73e0-4e8e-9663-c9fea9601d9d",
        "colab": {
          "base_uri": "https://localhost:8080/",
          "height": 69
        }
      },
      "source": [
        "r = root.location_tree\n",
        "r"
      ],
      "execution_count": 0,
      "outputs": [
        {
          "output_type": "execute_result",
          "data": {
            "text/plain": [
              "array(['4cb04e7fa5f86917', '4cb636ee9cc426af', '4cb7b30e962b92bd', ...,\n",
              "       '4ccf4dd9395872a9', '4ccf623082f2efc1', '4ccf762b16eb59ab'],\n",
              "      dtype='<U16')"
            ]
          },
          "metadata": {
            "tags": []
          },
          "execution_count": 21
        }
      ]
    },
    {
      "cell_type": "code",
      "metadata": {
        "id": "JiI6kIRbRVdE",
        "colab_type": "code",
        "colab": {}
      },
      "source": [
        "n = m.str.split(' ')"
      ],
      "execution_count": 0,
      "outputs": []
    },
    {
      "cell_type": "code",
      "metadata": {
        "id": "Dnbte7TsTRUs",
        "colab_type": "code",
        "colab": {}
      },
      "source": [
        "import numpy as np \n",
        "  \n",
        "# function to get unique values \n",
        "def unique(list1): \n",
        "    x = np.array(list1) \n",
        "    return np.unique(x)"
      ],
      "execution_count": 0,
      "outputs": []
    },
    {
      "cell_type": "code",
      "metadata": {
        "id": "tHG10oRWT2dx",
        "colab_type": "code",
        "colab": {}
      },
      "source": [
        "a = trips_data['TRAVEL'].str.split(' ').tolist()\n",
        "a = [i for j in a for i in j]"
      ],
      "execution_count": 0,
      "outputs": []
    },
    {
      "cell_type": "code",
      "metadata": {
        "id": "NW-RPEqbUNn-",
        "colab_type": "code",
        "colab": {}
      },
      "source": [
        "b = unique(a)"
      ],
      "execution_count": 0,
      "outputs": []
    },
    {
      "cell_type": "code",
      "metadata": {
        "id": "0Mpjy_LOUeia",
        "colab_type": "code",
        "outputId": "487b8f84-fb35-4b2c-fb72-68a6f329cc08",
        "colab": {
          "base_uri": "https://localhost:8080/",
          "height": 34
        }
      },
      "source": [
        "b[0]"
      ],
      "execution_count": 0,
      "outputs": [
        {
          "output_type": "execute_result",
          "data": {
            "text/plain": [
              "'4cb04e7fa5f86917'"
            ]
          },
          "metadata": {
            "tags": []
          },
          "execution_count": 63
        }
      ]
    },
    {
      "cell_type": "code",
      "metadata": {
        "id": "ZCL7i6y7TTN_",
        "colab_type": "code",
        "outputId": "c63bd472-1481-4f29-8bbe-9941ebda8057",
        "colab": {
          "base_uri": "https://localhost:8080/",
          "height": 156
        }
      },
      "source": [
        "list1 = [10, 20, 10, 30, 40, 40] \n",
        "print(\"the unique values from 1st list is\") \n",
        "unique(n) "
      ],
      "execution_count": 0,
      "outputs": [
        {
          "output_type": "stream",
          "text": [
            "the unique values from 1st list is\n"
          ],
          "name": "stdout"
        },
        {
          "output_type": "execute_result",
          "data": {
            "text/plain": [
              "array([list(['4cc854b4453c9ff1', '4cc854c8af502f51', '4cc854b4453c9ff1', '4cc854c8af502f51', '4cc854b4453c9ff1']),\n",
              "       list(['4cc854b87e3625d9', '4cc905e10903f81b', '4cc854b87e3625d9']),\n",
              "       list(['4cc854b87e3625d9', '4cc91a58cf5d9a1f', '4cc854b87e3625d9']),\n",
              "       ...,\n",
              "       list(['4ccf3eb6112a38cf', '4ccf2c6eae489b5d', '4ccf3985c3d1518d', '4ccf3eb6112a38cf']),\n",
              "       list(['4ccf3eb6112a38cf', '4ccf3984590e1e1f', '4ccf3eb6112a38cf', '4ccf3984590e1e1f', '4ccf3eb6112a38cf']),\n",
              "       list(['4ccf3eced2ca80ff', '4ccf3eced2ca80ff'])], dtype=object)"
            ]
          },
          "metadata": {
            "tags": []
          },
          "execution_count": 50
        }
      ]
    },
    {
      "cell_type": "code",
      "metadata": {
        "id": "pgIJ_kX5SHch",
        "colab_type": "code",
        "colab": {}
      },
      "source": [
        "n.tolist().unique()"
      ],
      "execution_count": 0,
      "outputs": []
    },
    {
      "cell_type": "code",
      "metadata": {
        "id": "u3tGPA1EPDGW",
        "colab_type": "code",
        "outputId": "3e13484b-61b5-4d64-ca1e-252bf0f383fb",
        "colab": {
          "base_uri": "https://localhost:8080/",
          "height": 34
        }
      },
      "source": [
        "s = trips_data['TRAVEL'].head(4)\n",
        "t = s.str.split(' ')\n",
        "v = t[0]\n",
        "v"
      ],
      "execution_count": 0,
      "outputs": [
        {
          "output_type": "execute_result",
          "data": {
            "text/plain": [
              "['4cc8de61f2e92d05', '4cc8de67553ddeaf', '4cc8de61f2e92d05']"
            ]
          },
          "metadata": {
            "tags": []
          },
          "execution_count": 30
        }
      ]
    },
    {
      "cell_type": "code",
      "metadata": {
        "id": "E34l-QEUrcRA",
        "colab_type": "code",
        "colab": {}
      },
      "source": [
        "b = root.trajectories\n",
        "c = b.str.split(' ')"
      ],
      "execution_count": 0,
      "outputs": []
    },
    {
      "cell_type": "code",
      "metadata": {
        "id": "TimLG8L-rou-",
        "colab_type": "code",
        "colab": {}
      },
      "source": [
        "f = root.trajectories[1]\n",
        "[f.split(' ') for i in f]"
      ],
      "execution_count": 0,
      "outputs": []
    },
    {
      "cell_type": "code",
      "metadata": {
        "id": "lhpEINMapN7T",
        "colab_type": "code",
        "outputId": "d087a812-1012-4ef0-ac0b-322fc6f0c00e",
        "colab": {
          "base_uri": "https://localhost:8080/",
          "height": 104
        }
      },
      "source": [
        "s"
      ],
      "execution_count": 0,
      "outputs": [
        {
          "output_type": "execute_result",
          "data": {
            "text/plain": [
              "0    4cc8de61f2e92d05 4cc8de67553ddeaf 4cc8de61f2e9...\n",
              "1    4cc8de61f2e92d05 4cc8de67553ddeaf 4cc8de61f2e9...\n",
              "2    4cc91ea026fa376b 4cc91ea19002424f 4cc91ea026fa...\n",
              "3    4cc91ea026fa376b 4cc91a5cdca68651 4cc91a43c508...\n",
              "Name: TRAVEL, dtype: object"
            ]
          },
          "metadata": {
            "tags": []
          },
          "execution_count": 31
        }
      ]
    },
    {
      "cell_type": "code",
      "metadata": {
        "id": "2su79h3_CpqU",
        "colab_type": "code",
        "outputId": "d222ab96-cc42-4f77-f119-972475158fcb",
        "colab": {
          "base_uri": "https://localhost:8080/",
          "height": 34
        }
      },
      "source": [
        "st = '4cc8de61f2e92d05'\n",
        "st = st.split(' ')\n",
        "print(find_prefix(root, st))\n",
        "# print(traverse(root, st))"
      ],
      "execution_count": 0,
      "outputs": [
        {
          "output_type": "stream",
          "text": [
            "<__main__.TrieNode object at 0x7f74d9683f98>\n"
          ],
          "name": "stdout"
        }
      ]
    },
    {
      "cell_type": "code",
      "metadata": {
        "id": "nm_OOrEh-XfB",
        "colab_type": "code",
        "colab": {}
      },
      "source": [
        "m = trips_data['TRAVEL'].tolist()"
      ],
      "execution_count": 0,
      "outputs": []
    },
    {
      "cell_type": "code",
      "metadata": {
        "id": "4TJbPc9LiUJA",
        "colab_type": "code",
        "outputId": "a7a83252-6e09-4c8d-a4a9-3351b3aba4a0",
        "colab": {
          "base_uri": "https://localhost:8080/",
          "height": 34
        }
      },
      "source": [
        "m[1]"
      ],
      "execution_count": 0,
      "outputs": [
        {
          "output_type": "execute_result",
          "data": {
            "text/plain": [
              "'4cc8de61f2e92d05 4cc8de67553ddeaf 4cc8de61f2e92d05 4cc8dea4fa05383f 4cc8de61f2e92d05'"
            ]
          },
          "metadata": {
            "tags": []
          },
          "execution_count": 27
        }
      ]
    },
    {
      "cell_type": "code",
      "metadata": {
        "id": "cKr9EQIw9u7J",
        "colab_type": "code",
        "outputId": "a1425b1f-4a9d-4d4b-9ae7-2be72a7b5654",
        "colab": {
          "base_uri": "https://localhost:8080/",
          "height": 34
        }
      },
      "source": [
        "print(find_prefix(root, '4cc8de61f2e92d05 4cc8de67553ddeaf 4cc8de61f2e92d05 4cc8dea4fa05383f 4cc8de61f2e92d05'))"
      ],
      "execution_count": 0,
      "outputs": [
        {
          "output_type": "stream",
          "text": [
            "(False, 0)\n"
          ],
          "name": "stdout"
        }
      ]
    },
    {
      "cell_type": "code",
      "metadata": {
        "id": "7ktrBZd15fQd",
        "colab_type": "code",
        "outputId": "d1d06125-e1e1-4d32-ef83-9671b670bada",
        "colab": {
          "base_uri": "https://localhost:8080/",
          "height": 34
        }
      },
      "source": [
        "trips_data['TRAVEL'][1]"
      ],
      "execution_count": 0,
      "outputs": [
        {
          "output_type": "execute_result",
          "data": {
            "text/plain": [
              "'4cc8de61f2e92d05 4cc8de67553ddeaf 4cc8de61f2e92d05 4cc8dea4fa05383f 4cc8de61f2e92d05'"
            ]
          },
          "metadata": {
            "tags": []
          },
          "execution_count": 33
        }
      ]
    },
    {
      "cell_type": "code",
      "metadata": {
        "id": "X5itg5c7iZe4",
        "colab_type": "code",
        "colab": {}
      },
      "source": [
        "df_outer['LEN'] = len(df_outer['TRAVEL'].str.split(''))"
      ],
      "execution_count": 0,
      "outputs": []
    },
    {
      "cell_type": "code",
      "metadata": {
        "id": "7nuk1_rMly3X",
        "colab_type": "code",
        "colab": {}
      },
      "source": [
        "# dt[['LEN']] = dt.apply(lambda row:str(getCellId(row['ORIG_LON'], row['ORIG_LAT']).to_token()), axis=1).apply(pd.Series)\n",
        "dt = df_outer.copy()\n",
        "dt[['LEN']] = dt.apply(lambda row:int(len(row['TRAVEL'].split(' '))), axis=1).apply(pd.Series)"
      ],
      "execution_count": 0,
      "outputs": []
    },
    {
      "cell_type": "code",
      "metadata": {
        "id": "s4WsK-NHmjuJ",
        "colab_type": "code",
        "colab": {}
      },
      "source": [
        "# SELECT HOME BASED TRIPS\n",
        "dt_hbt = dt[dt.LEN != 2]"
      ],
      "execution_count": 0,
      "outputs": []
    },
    {
      "cell_type": "code",
      "metadata": {
        "id": "civMCi3PpiL7",
        "colab_type": "code",
        "colab": {}
      },
      "source": [
        "dt_hbt = dt_hbt[cols]"
      ],
      "execution_count": 0,
      "outputs": []
    },
    {
      "cell_type": "code",
      "metadata": {
        "id": "zEM2Xfc4kUNL",
        "colab_type": "code",
        "colab": {}
      },
      "source": [
        ""
      ],
      "execution_count": 0,
      "outputs": []
    },
    {
      "cell_type": "markdown",
      "metadata": {
        "id": "zJPPVyBRX-vJ",
        "colab_type": "text"
      },
      "source": [
        "# **Trie data traversal**"
      ]
    },
    {
      "cell_type": "code",
      "metadata": {
        "id": "Jerf4c1BYFiZ",
        "colab_type": "code",
        "colab": {}
      },
      "source": [
        "def list_words(trie):\n",
        "  my_list = []\n",
        "  for k,v in trie.items():\n",
        "      if k != '_':\n",
        "          for el in list_words(v):                \n",
        "              my_list.append(k+el)\n",
        "      else:\n",
        "          my_list.append('')\n",
        "  return my_list"
      ],
      "execution_count": 0,
      "outputs": []
    },
    {
      "cell_type": "markdown",
      "metadata": {
        "id": "BH0nFNtDOHE3",
        "colab_type": "text"
      },
      "source": [
        "# **Laplace noise**"
      ]
    },
    {
      "cell_type": "code",
      "metadata": {
        "id": "N6K8LaOeOJp9",
        "colab_type": "code",
        "colab": {}
      },
      "source": [
        "from math import log\n",
        "from random import random\n",
        "\n",
        "def exp_sample(mean): \n",
        "    return -mean*log(random())\n",
        "\n",
        "def laplace(scale):\n",
        "    e1 = exp_sample(scale)\n",
        "    e2 = exp_sample(scale)\n",
        "    return e1 - e2"
      ],
      "execution_count": 0,
      "outputs": []
    },
    {
      "cell_type": "code",
      "metadata": {
        "id": "whIRJYzIQorA",
        "colab_type": "code",
        "outputId": "4a83d8a5-72e9-4145-e070-8d2b2ce204fa",
        "colab": {
          "base_uri": "https://localhost:8080/",
          "height": 166
        }
      },
      "source": [
        "laplace(10)"
      ],
      "execution_count": 0,
      "outputs": [
        {
          "output_type": "error",
          "ename": "NameError",
          "evalue": "ignored",
          "traceback": [
            "\u001b[0;31m---------------------------------------------------------------------------\u001b[0m",
            "\u001b[0;31mNameError\u001b[0m                                 Traceback (most recent call last)",
            "\u001b[0;32m<ipython-input-113-6c71e01a3ee7>\u001b[0m in \u001b[0;36m<module>\u001b[0;34m()\u001b[0m\n\u001b[0;32m----> 1\u001b[0;31m \u001b[0mlaplace\u001b[0m\u001b[0;34m(\u001b[0m\u001b[0;36m10\u001b[0m\u001b[0;34m)\u001b[0m\u001b[0;34m\u001b[0m\u001b[0;34m\u001b[0m\u001b[0m\n\u001b[0m",
            "\u001b[0;31mNameError\u001b[0m: name 'laplace' is not defined"
          ]
        }
      ]
    },
    {
      "cell_type": "code",
      "metadata": {
        "id": "hofVSmzVwpUy",
        "colab_type": "code",
        "outputId": "b3ef2504-1b88-4287-e145-07342a8588a9",
        "colab": {
          "base_uri": "https://localhost:8080/",
          "height": 72
        }
      },
      "source": [
        "df = pd.read_csv('https://archive.ics.uci.edu/ml/machine-learning-databases/adult/adult.data', sep=r'\\s*,\\s*',na_values=\"?\")\n",
        "datacount = df[\"United-States\"].value_counts()"
      ],
      "execution_count": 0,
      "outputs": [
        {
          "output_type": "stream",
          "text": [
            "/usr/local/lib/python3.6/dist-packages/ipykernel_launcher.py:1: ParserWarning: Falling back to the 'python' engine because the 'c' engine does not support regex separators (separators > 1 char and different from '\\s+' are interpreted as regex); you can avoid this warning by specifying engine='python'.\n",
            "  \"\"\"Entry point for launching an IPython kernel.\n"
          ],
          "name": "stderr"
        }
      ]
    },
    {
      "cell_type": "code",
      "metadata": {
        "id": "zduErs33yBkB",
        "colab_type": "code",
        "outputId": "693634e3-11f1-4e37-9929-b1452d5d906d",
        "colab": {
          "base_uri": "https://localhost:8080/",
          "height": 745
        }
      },
      "source": [
        "datacount"
      ],
      "execution_count": 0,
      "outputs": [
        {
          "output_type": "execute_result",
          "data": {
            "text/plain": [
              "United-States                 29169\n",
              "Mexico                          643\n",
              "Philippines                     198\n",
              "Germany                         137\n",
              "Canada                          121\n",
              "Puerto-Rico                     114\n",
              "El-Salvador                     106\n",
              "India                           100\n",
              "Cuba                             95\n",
              "England                          90\n",
              "Jamaica                          81\n",
              "South                            80\n",
              "China                            75\n",
              "Italy                            73\n",
              "Dominican-Republic               70\n",
              "Vietnam                          67\n",
              "Guatemala                        64\n",
              "Japan                            62\n",
              "Poland                           60\n",
              "Columbia                         59\n",
              "Taiwan                           51\n",
              "Haiti                            44\n",
              "Iran                             43\n",
              "Portugal                         37\n",
              "Nicaragua                        34\n",
              "Peru                             31\n",
              "France                           29\n",
              "Greece                           29\n",
              "Ecuador                          28\n",
              "Ireland                          24\n",
              "Hong                             20\n",
              "Cambodia                         19\n",
              "Trinadad&Tobago                  19\n",
              "Laos                             18\n",
              "Thailand                         18\n",
              "Yugoslavia                       16\n",
              "Outlying-US(Guam-USVI-etc)       14\n",
              "Hungary                          13\n",
              "Honduras                         13\n",
              "Scotland                         12\n",
              "Holand-Netherlands                1\n",
              "Name: United-States, dtype: int64"
            ]
          },
          "metadata": {
            "tags": []
          },
          "execution_count": 17
        }
      ]
    },
    {
      "cell_type": "code",
      "metadata": {
        "id": "Hh40g6CaxxG2",
        "colab_type": "code",
        "outputId": "9dc4d5c0-57b3-4b3e-88be-d0e5cf44beef",
        "colab": {
          "base_uri": "https://localhost:8080/",
          "height": 416
        }
      },
      "source": [
        "datacount.plot(kind=\"bar\", color = 'r')"
      ],
      "execution_count": 0,
      "outputs": [
        {
          "output_type": "execute_result",
          "data": {
            "text/plain": [
              "<matplotlib.axes._subplots.AxesSubplot at 0x7f3779d076d8>"
            ]
          },
          "metadata": {
            "tags": []
          },
          "execution_count": 15
        },
        {
          "output_type": "display_data",
          "data": {
            "image/png": "[encoded data removed]",
            "text/plain": [
              "<Figure size 432x288 with 1 Axes>"
            ]
          },
          "metadata": {
            "tags": []
          }
        }
      ]
    },
    {
      "cell_type": "code",
      "metadata": {
        "id": "zuZ_auSAxAeg",
        "colab_type": "code",
        "outputId": "a45a6f9a-afba-423b-e678-ee8b586e1799",
        "colab": {
          "base_uri": "https://localhost:8080/",
          "height": 34
        }
      },
      "source": [
        "Exponential_noise = np.random.exponential(1) \n",
        "print (\"Exponentially generated noise:\", Exponential_noise)"
      ],
      "execution_count": 0,
      "outputs": [
        {
          "output_type": "stream",
          "text": [
            "Exponentially generated noise: 1.2829631318059518\n"
          ],
          "name": "stdout"
        }
      ]
    },
    {
      "cell_type": "code",
      "metadata": {
        "id": "YG3iL8rOxmXp",
        "colab_type": "code",
        "outputId": "22516b4c-7bd0-4214-9f36-e06407a21697",
        "colab": {
          "base_uri": "https://localhost:8080/",
          "height": 416
        }
      },
      "source": [
        "noisydata = datacount + Exponential_noise\n",
        "noisydata.plot(kind=\"bar\", color = 'r')"
      ],
      "execution_count": 0,
      "outputs": [
        {
          "output_type": "execute_result",
          "data": {
            "text/plain": [
              "<matplotlib.axes._subplots.AxesSubplot at 0x7f3779dd40f0>"
            ]
          },
          "metadata": {
            "tags": []
          },
          "execution_count": 14
        },
        {
          "output_type": "display_data",
          "data": {
            "image/png": "[encoded data removed]",
            "text/plain": [
              "<Figure size 432x288 with 1 Axes>"
            ]
          },
          "metadata": {
            "tags": []
          }
        }
      ]
    },
    {
      "cell_type": "code",
      "metadata": {
        "id": "b4peA2zwx7su",
        "colab_type": "code",
        "outputId": "879a1ce6-92af-4468-a987-725e75dd6f18",
        "colab": {
          "base_uri": "https://localhost:8080/",
          "height": 745
        }
      },
      "source": [
        "noisydata"
      ],
      "execution_count": 0,
      "outputs": [
        {
          "output_type": "execute_result",
          "data": {
            "text/plain": [
              "United-States                 29170.282963\n",
              "Mexico                          644.282963\n",
              "Philippines                     199.282963\n",
              "Germany                         138.282963\n",
              "Canada                          122.282963\n",
              "Puerto-Rico                     115.282963\n",
              "El-Salvador                     107.282963\n",
              "India                           101.282963\n",
              "Cuba                             96.282963\n",
              "England                          91.282963\n",
              "Jamaica                          82.282963\n",
              "South                            81.282963\n",
              "China                            76.282963\n",
              "Italy                            74.282963\n",
              "Dominican-Republic               71.282963\n",
              "Vietnam                          68.282963\n",
              "Guatemala                        65.282963\n",
              "Japan                            63.282963\n",
              "Poland                           61.282963\n",
              "Columbia                         60.282963\n",
              "Taiwan                           52.282963\n",
              "Haiti                            45.282963\n",
              "Iran                             44.282963\n",
              "Portugal                         38.282963\n",
              "Nicaragua                        35.282963\n",
              "Peru                             32.282963\n",
              "France                           30.282963\n",
              "Greece                           30.282963\n",
              "Ecuador                          29.282963\n",
              "Ireland                          25.282963\n",
              "Hong                             21.282963\n",
              "Cambodia                         20.282963\n",
              "Trinadad&Tobago                  20.282963\n",
              "Laos                             19.282963\n",
              "Thailand                         19.282963\n",
              "Yugoslavia                       17.282963\n",
              "Outlying-US(Guam-USVI-etc)       15.282963\n",
              "Hungary                          14.282963\n",
              "Honduras                         14.282963\n",
              "Scotland                         13.282963\n",
              "Holand-Netherlands                2.282963\n",
              "Name: United-States, dtype: float64"
            ]
          },
          "metadata": {
            "tags": []
          },
          "execution_count": 16
        }
      ]
    },
    {
      "cell_type": "code",
      "metadata": {
        "id": "f-l8-e3_Yvna",
        "colab_type": "code",
        "colab": {}
      },
      "source": [
        "# Tokenize Travel Chain\n",
        "from keras.preprocessing.text import Tokenizer\n",
        "\n",
        "tr_token = Tokenizer(num_words=None)\n",
        "tr_token.fit_on_texts(trips_data['TRAVEL'])\n",
        "tr_tokens = tr_token.texts_to_sequences(trips_data['TRAVEL'])\n",
        "trips_data['TRIPS'] = tr_tokens"
      ],
      "execution_count": 0,
      "outputs": []
    },
    {
      "cell_type": "code",
      "metadata": {
        "id": "026YI_uVaWVu",
        "colab_type": "code",
        "colab": {}
      },
      "source": [
        "# Pad sequences\n",
        "from keras.preprocessing.sequence import pad_sequences\n",
        "trips_seq = pad_sequences(trips_data['TRIPS'],padding='post', maxlen=15)"
      ],
      "execution_count": 0,
      "outputs": []
    },
    {
      "cell_type": "code",
      "metadata": {
        "id": "vCLFEV7IoGkG",
        "colab_type": "code",
        "outputId": "edc66891-bde3-4253-ad1c-9831a63bbb4c",
        "colab": {
          "base_uri": "https://localhost:8080/",
          "height": 34
        }
      },
      "source": [
        "len(tr_token.word_index)"
      ],
      "execution_count": 0,
      "outputs": [
        {
          "output_type": "execute_result",
          "data": {
            "text/plain": [
              "110354"
            ]
          },
          "metadata": {
            "tags": []
          },
          "execution_count": 74
        }
      ]
    },
    {
      "cell_type": "code",
      "metadata": {
        "id": "L5a-HABIsRon",
        "colab_type": "code",
        "colab": {}
      },
      "source": [
        "df_outer['TRAVEL'].to_csv('drive/My Drive/ThesisProposal/export_trip_101119.csv', index = None, header=True)"
      ],
      "execution_count": 0,
      "outputs": []
    },
    {
      "cell_type": "markdown",
      "metadata": {
        "colab_type": "text",
        "id": "7vEUyxfrtalL"
      },
      "source": [
        "**Pre-Training**"
      ]
    },
    {
      "cell_type": "code",
      "metadata": {
        "id": "_qo2AARPmy0_",
        "colab_type": "code",
        "colab": {}
      },
      "source": [
        "import tensorflow as tf\n",
        "from keras.optimizers import Adam\n",
        "from keras.layers import Input, Dropout, Concatenate, Embedding, Dense, LSTM, Lambda\n",
        "from keras.models import Model, Sequential\n",
        "import keras.backend as K\n",
        "\n",
        "_session = tf.Session()\n",
        "K.set_session(_session)"
      ],
      "execution_count": 0,
      "outputs": []
    },
    {
      "cell_type": "code",
      "metadata": {
        "id": "QLqjpnxY3qB0",
        "colab_type": "code",
        "colab": {}
      },
      "source": [
        ""
      ],
      "execution_count": 0,
      "outputs": []
    },
    {
      "cell_type": "markdown",
      "metadata": {
        "id": "D9o1CWHNRJ3v",
        "colab_type": "text"
      },
      "source": [
        "**Reinforcement Learning**"
      ]
    },
    {
      "cell_type": "code",
      "metadata": {
        "id": "bhjjHBLCZgJt",
        "colab_type": "code",
        "colab": {}
      },
      "source": [
        "# from models import Generator, GeneratorPretraining, Discriminator\n",
        "# from utils import DiscriminatorGenerator\n",
        "import keras.backend as K\n",
        "import numpy as np\n",
        "\n",
        "class  Agent ( object ):\n",
        "    '''\n",
        "    On each step, Agent act on state.\n",
        "    Then Environment return next state, reward, and so on.\n",
        "    '''\n",
        "    def  __init__ ( self , sess , batch_size , vocab_dim , embedding_dim , hidden_size , lr = 1e-3 ):\n",
        "        self .sess = sess\n",
        "        self .num_actions = vocab_dim\n",
        "        self .B = batch_size\n",
        "        self .V = vocab_dim\n",
        "        self .E = embedding_dim\n",
        "        self .H = hidden_size\n",
        "        self .lr = lr\n",
        "        self .eps =  0.1\n",
        "        self .generator = Generator (sess, B, V, E, H, lr)\n",
        "\n",
        "    def  act ( self , state , epsilon = 0 , deterministic = False ):\n",
        "        '''\n",
        "        # Arguments:\n",
        "            state: numpy array, dtype = int, shape = (B, t)\n",
        "            epsilon: float, 0 <= epsilon <= 1,\n",
        "                if epsilon is 1, the Agent will act completely random.\n",
        "        # Returns:\n",
        "            action: numpy array, dtype = int, shape = (B, 1)\n",
        "        '''\n",
        "        trip = state[:, - 1 ].reshape ([ - 1 , 1 ])\n",
        "        return  self._act_on_trip (trip, epsilon = epsilon, deterministic = deterministic)\n",
        "\n",
        "\n",
        "    def  _act_on_trip ( self , trip , epsilon = 0 , deterministic = False , PAD = 0 , EOS = 2 ):\n",
        "        '''\n",
        "        # Arguments:\n",
        "            trip: numpy array, dtype = int, shape = (B, 1),\n",
        "                trip indicates current trip.\n",
        "            epsilon: float, 0 <= epsilon <= 1,\n",
        "                if epsilon is 1, the Agent will act completely random.\n",
        "        # Returns:\n",
        "            action: numpy array, dtype = int, shape = (B, 1)\n",
        "        '''\n",
        "        action =  None\n",
        "        is_PAD = trip ==  PAD\n",
        "        is_EOS = trip ==  EOS\n",
        "        is_end = is_PAD.astype (np.int) + is_EOS.astype (np.int)\n",
        "        is_end =  1  - is_end\n",
        "        is_end = is_end.reshape ([ self .B, 1 ])\n",
        "\n",
        "        if np.random.rand () <= epsilon:\n",
        "            action = np.random.randint ( low = 0 , high = self.num_actions, size = ( self.B, 1 ))\n",
        "        elif  not deterministic:\n",
        "            probs =  self .generator.predict (trip)\n",
        "            action =  self .generator.sampling_trip(probs).reshape ([ self.B, 1 ]) ###### cross check\n",
        "        else :\n",
        "            probs =  self .generator.predict (trip) # (B, T)\n",
        "            action = np.argmax (probs, axis = - 1 ).reshape ([ self.B, 1 ])\n",
        "        return action * is_end\n",
        "\n",
        "    def  reset ( self ):\n",
        "        self.generator.reset_rnn_state ()\n",
        "\n",
        "    def  save ( self , path ):\n",
        "        self.generator.save (path)\n",
        "\n",
        "    def  load ( self , path ):\n",
        "        self.generator.load (path)\n",
        "\n",
        "\n",
        "class  Environment ( object ):\n",
        "    '''\n",
        "    On each step, Agent act on state.\n",
        "    Then Environment return next state, reward, and so on.\n",
        "    '''\n",
        "    def  __init__ ( self , discriminator , data_generator , g_beta , n_sample = 16 ):\n",
        "        '''\n",
        "        Environment class for Reinforced Learning\n",
        "        # Arguments:\n",
        "            discriminator: keras model\n",
        "            data_generator: SeqGAN.models.GeneratorPretrainingGenerator\n",
        "            g_beta: SeqGAN.rl.Agent, copy of Agent\n",
        "                params of g_beta.generator should be updated with those of original\n",
        "                generator on regular occasions.\n",
        "        # Optional Arguments\n",
        "            n_sample: int, default is 16, the number of Monte Carlo search sample\n",
        "        '''\n",
        "        self.data_generator = data_generator\n",
        "        self.B = data_generator.B\n",
        "        # self.t = data_generator.T\n",
        "        self.T = data_generator.T\n",
        "        self.n_sample = n_sample\n",
        "        self.BOS  = data_generator.BOS    #Begin of sentence\n",
        "        self.discriminator = discriminator\n",
        "        self.g_beta = g_beta\n",
        "        self.reset ()\n",
        "\n",
        "    def  get_state ( self ):\n",
        "        if  self.t ==  1 :\n",
        "            return  self._state\n",
        "        else:\n",
        "            return  self._state [:, 1 :]    # Exclude BOS\n",
        "\n",
        "    def  reset ( self ):\n",
        "        self.t =  1\n",
        "        self._state = np.zeros ([ self.B, 1 ], dtype = np.int32)\n",
        "        self._state [:, 0 ] =  self.BOS\n",
        "        self.g_beta.reset ()\n",
        "\n",
        "    def  step ( self , action ):\n",
        "        '''\n",
        "        Step t-> t + 1 and returns a result of the Agent action.\n",
        "        # Arguments:\n",
        "            action: numpy array, dtype = int, shape = (B, 1),\n",
        "                state is Y_0: t-1, and action is y_t\n",
        "        # Returns:\n",
        "            next_state: numpy array, dtype = int, shape = (B, t)\n",
        "            reward: numpy array, dtype = float, shape = (B, 1)\n",
        "            is_episode_end: bool\n",
        "            info: dict\n",
        "        '''\n",
        "        self.t =  self.t +  1\n",
        "\n",
        "        reward =  self.Q (action, self .n_sample)\n",
        "        is_episode_end =  self.T >  self.T\n",
        "\n",
        "        self ._append_state (action)\n",
        "        next_state =  self.get_state ()\n",
        "        info =  None\n",
        "\n",
        "        return [next_state, reward, is_episode_end, info]\n",
        "\n",
        "    def  render ( self , head = 1 ):\n",
        "        for i in  range (head):\n",
        "            ids =  self .get_state () [i]\n",
        "            words = [ self .data_generator.id2word [ id ] for  id  in ids.tolist ()]\n",
        "            print ( ' ' .join (words))\n",
        "        print ( ' - '  *  80 )\n",
        "\n",
        "\n",
        "    def  Q ( self , action , n_sample = 16 ):\n",
        "        '''\n",
        "        State-Action value function using Rollout policy\n",
        "        # Arguments:\n",
        "            action: numpy array, dtype = int, shape = (B, 1)\n",
        "        # Optional Arguments:\n",
        "            n_sample: int, default is 16, number of samples for Monte Calro Search\n",
        "        # Returns:\n",
        "            reward: numpy array, dtype = float, shape = (B,), State-Action value\n",
        "        # Requires:\n",
        "            t, T: used to define time range.\n",
        "            state: determined texts, Y [0: t-1], used for Rollout.\n",
        "            action: next words, y [t], used for sentence Y [0: t].\n",
        "            g_beta: Rollout policy.\n",
        "        '''\n",
        "        h, c =  self.g_beta.generator.get_rnn_state ()\n",
        "        reward = np.zeros([self.B, 1 ])\n",
        "        if  self.t ==  2 :\n",
        "            Y_base =  self._state     # Initial case\n",
        "        else:\n",
        "            Y_base =  self.get_state ()     # (B, t-1)\n",
        "\n",
        "        if  self.t >=  self.T + 1 :\n",
        "            Y =  self._append_state (action, state = Y_base)\n",
        "            return  self.discriminator.predict (Y)\n",
        "\n",
        "        # Rollout\n",
        "        for idx_sample in  range (n_sample):\n",
        "            Y = Y_base\n",
        "            self.g_beta.generator.set_rnn_state (h, c)\n",
        "            y_t =  self.g_beta.act (Y, epsilon = self .g_beta.eps)\n",
        "            Y =  self._append_state (y_t, state = Y)\n",
        "            for tau in  range ( self.t + 1, self.T):\n",
        "                y_tau =  self .g_beta.act (Y, epsilon = self.g_beta.eps)\n",
        "                Y =  self ._append_state (y_tau, state = Y)\n",
        "            reward +=  self .discriminator.predict (Y) / n_sample\n",
        "\n",
        "        return reward\n",
        "\n",
        "\n",
        "    def  _append_state ( self , trip , state = None ):\n",
        "        '''\n",
        "        # Arguments:\n",
        "            trip: numpy array, dtype = int, shape = (B, 1)\n",
        "        '''\n",
        "        trip = trip.reshape ( - 1 , 1 )\n",
        "        if state is  None :\n",
        "          self ._state = np.concatenate ([ self._state, trip], axis = -1 )\n",
        "        else :\n",
        "          return np.concatenate ([state, trip], axis =  -1 )"
      ],
      "execution_count": 0,
      "outputs": []
    },
    {
      "cell_type": "code",
      "metadata": {
        "id": "3OIhKufH2OMB",
        "colab_type": "code",
        "colab": {}
      },
      "source": [
        "seqgan = SeqGAN()"
      ],
      "execution_count": 0,
      "outputs": []
    },
    {
      "cell_type": "code",
      "metadata": {
        "id": "XFKUEuhjg_IL",
        "colab_type": "code",
        "colab": {}
      },
      "source": [
        "class Trainer():\n",
        "\n",
        "  def __init__ (self, vocab_size, g_data, d_data = None):\n",
        "    self.batch_size = 64\n",
        "    self.seq_len = 64\n",
        "    self.vocab_size = vocab_size\n",
        "    self.n_sample = 16\n",
        "    self.d_dropout = 0.01\n",
        "    self.g_lr = 1e-3\n",
        "    self.d_lr = 1e-3\n",
        "    self.g_E, self.d_E = 50\n",
        "    self.g_H, self.d_H = 50\n",
        "    self.g_data = g_data\n",
        "    self.d_data = d_data\n",
        "    self.agent = Agent(_session, self.batch_size, self.vocab_size, self.g_E, self.g_H, self.g_lr)\n",
        "    self.g_beta = Agent(_session, self.batch_size, self.vocab_size, self.g_E, self.g_H, self.g_lr )\n",
        "    self.critic = Discriminator(self.vocab_size, self.d_E, dropout = self.d_dropout)\n",
        "    self.env = Environment(self.critic, self.g_data, self.g_beta, n_sample=self.n_sample)\n",
        "    self.generator_pre = GeneratorPreTraining(self.vocab_size, self.g_E, self.g_H)\n",
        "\n",
        "\n",
        "  "
      ],
      "execution_count": 0,
      "outputs": []
    },
    {
      "cell_type": "markdown",
      "metadata": {
        "id": "Nb-uKXfAgxY5",
        "colab_type": "text"
      },
      "source": [
        "# **Generative Model**"
      ]
    },
    {
      "cell_type": "code",
      "metadata": {
        "id": "2AANwNCqg4Yl",
        "colab_type": "code",
        "colab": {}
      },
      "source": [
        "class SeqGAN():\n",
        "  \n",
        "  def __init__(self):\n",
        "    self.seq_length = 15\n",
        "    self.seq_shape = (self.seq_length, 1)\n",
        "    self.latent_dim = 100\n",
        "    self.disc_loss = []\n",
        "    self.gen_loss =[]\n",
        "    self.vocab_size = 1000\n",
        "    self.data_shape = (39,)\n",
        "    self.batch_size = 64\n",
        "    self.hidden_size = 64\n",
        "    self.embedding_size = 64\n",
        "\n",
        "    optimizer = Adam(0.0002, 0.5)\n",
        "\n",
        "    # Build and compile the discriminator\n",
        "    self.discriminator = self.build_discriminator()\n",
        "    self.discriminator.compile(loss='binary_crossentropy', optimizer=optimizer, metrics=['accuracy'])\n",
        "\n",
        "    # Build the generator\n",
        "    self.generator = self.build_generator()\n",
        "\n",
        "    # The generator takes noise as input and generates note sequences\n",
        "    z = Input(shape=(self.latent_dim,))\n",
        "    generated_seq = self.generator(z)\n",
        "\n",
        "    # For the combined model we will only train the generator\n",
        "    self.discriminator.trainable = False\n",
        "\n",
        "    # The discriminator takes generated images as input and determines validity\n",
        "    validity = self.discriminator(generated_seq)\n",
        "\n",
        "    # The combined model  (stacked generator and discriminator)\n",
        "    # Trains the generator to fool the discriminator\n",
        "    self.combined = Model(z, validity)\n",
        "    self.combined.compile(loss='binary_crossentropy', optimizer=optimizer)\n",
        "\n",
        "\n",
        "  def  pretrain_generator (self):\n",
        "\n",
        "    model = Sequential()\n",
        "    model.add(Embedding(self.vocab_size, 64, mask_zero=True, name='Embedding'))\n",
        "    model.add(LSTM(64, return_sequences=True, name='LSTM'))\n",
        "    model.add(TimeDistributed(Dense(self.vocab_size, activation='softmax')))\n",
        "    model.summary()\n",
        "\n",
        "    data_input = Input(shape=(self.data_shape), dtype='int32', name='Input')\n",
        "    output = model(data_input)\n",
        "\n",
        "    return Model(data_input, output)\n",
        "\n",
        "\n",
        "  def build_generator(self):\n",
        "\n",
        "    model = Sequential()\n",
        "    model.add(Embedding(self.vocab_size, 64, mask_zero=True))\n",
        "    model.add(LSTM(64, dropout_U = 0.2, dropout_W = 0.2, return_sequences=True))\n",
        "    model.add(Dense(self.vocab_size, activation='softmax'))\n",
        "    \n",
        "    data_input = Input(shape=(self.data_shape), dtype='int32', name='Input')\n",
        "    out = model(data_input)\n",
        "\n",
        "    return Model(data_input, out) \n",
        "\n",
        "\n",
        "  def reset_rnn_state (self):\n",
        "    self.h = np.zeros([self.batch_size, self.hidden_size])\n",
        "    self.c = np.zeros([self.batch_size, self.hidden_size])\n",
        "\n",
        "  def set_rnn_state(self, h, c):\n",
        "    self.h = h\n",
        "    self.c = c\n",
        "\n",
        "  def get_rnn_state(self):\n",
        "    return self.h, self.c\n",
        "\n",
        "\n",
        "  def predict(self, state, stateful = True):\n",
        "    feed_dict = {\n",
        "        self.state_in: state,\n",
        "        self.h_in: self.h,\n",
        "        self.c_in: self.c\n",
        "    }\n",
        "    prob, next_h, next_c = self.sess.run(\n",
        "        [self.prob, self.next_h, self.next_c], feed_dict\n",
        "    )\n",
        "\n",
        "    if stateful:\n",
        "      self.h = next_h\n",
        "      self.c = next_c\n",
        "      return prob\n",
        "    else:\n",
        "      return prob, next_h, next_c\n",
        "\n",
        "\n",
        "  def update(self, state, action, reward, h=None, c=None, stateful=True):\n",
        "    if h is None:\n",
        "      h = self.h\n",
        "    if c is None:\n",
        "      c= self.c\n",
        "    state = state[:, -1].reshape(-1, 1)\n",
        "    reward = reward.reshape(-1)\n",
        "    feed_dict = {\n",
        "        self.state_in: state,\n",
        "        self.h_in: h,\n",
        "        self.c_in: c,\n",
        "        self.action: to_categorical(action, self.vocal_size),\n",
        "        self.reward: reward\n",
        "    }\n",
        "    _, loss, next_h, next_c = self.sess.run(\n",
        "        [self.minimize, self.loss, self.next_h, self.next_c], feed_dict\n",
        "    )\n",
        "\n",
        "    if stateful:\n",
        "      self.h = next_h,\n",
        "      self.c = next_c,\n",
        "      return loss\n",
        "    else:\n",
        "      return loss, next_h, next_c\n",
        "\n",
        "\n",
        "  def sampling_trip(self, prob):\n",
        "    action = np.zeros((self.batch_size,), dtype='int32')\n",
        "    for i in range(self.batch_size):\n",
        "      p = prob[i]\n",
        "      action = np.random.choice(self.vocab_size, p = p)\n",
        "    return action\n",
        "\n",
        "\n",
        "  def sampling_trip_chain(self, T, BOS=1):\n",
        "    self.reset_rnn.state()\n",
        "    action = np.zeros([self.batch_size, 1], dtype='int32')\n",
        "    action[:, 0] = BOS\n",
        "    actions = action\n",
        "    for _ in range(T):\n",
        "      prob = self.predict(action)\n",
        "      action = self.sampling_trip(prob).reshape(-1, 1)\n",
        "      actions = np.concatenate([actions, action], axis=-1)\n",
        "    \n",
        "    actions = actions[:, 1:]\n",
        "    self.reset_rnn_state()\n",
        "    return actions\n",
        "\n",
        "\n",
        "  def generate_trips(self, T, g_data, num, output_file):\n",
        "    trip_chains = []\n",
        "    for _ in range(num // self.batch_size + 1):\n",
        "      actions = self.sampling_trip_chain(T)\n",
        "      actions_list = actions.tolist()\n",
        "\n",
        "      for chain_id in actions_list:\n",
        "        chain  = [g_data.id2word[action] for action in chain_id]\n",
        "        trip_chains.append(chain)\n",
        "      output_str = ' '\n",
        "      for i in range(num):\n",
        "        output_str += ' '.join(trip_chains[i] + '\\n')\n",
        "      with io.open(output_file, 'w', encoding='utf-8') as f:\n",
        "        f.write(output_str)\n",
        "\n",
        "\n",
        "  def save(self, path):\n",
        "    weights = []\n",
        "    for layer in self.layers:\n",
        "      w = layer.get_weights()\n",
        "      weights.append(w)\n",
        "    with io.open(path, 'wb') as f:\n",
        "      pickle.dump(weights, f)\n",
        "\n",
        "\n",
        "  def load(self, path):\n",
        "    with io.open(path, 'rb') as f:\n",
        "      weights = pickle.load(f)\n",
        "    for layer, w in zip(self.layers, weights):\n",
        "      layer.set_weights(w)\n",
        "\n",
        "\n",
        "  def  Highway (self, x , num_layers = 1 , activation = 'relu' , name_prefix = '' ):\n",
        "    input_size = K.int_shape (x) [ 1 ]\n",
        "    for i in  range (num_layers):\n",
        "        gate_ratio_name =  '{}Highway/Gate_ratio_{}'.format (name_prefix, i)\n",
        "        fc_name =  '{}Highway/FC_{}'.format (name_prefix, i)\n",
        "        gate_name =  '{}Highway/Gate_{}'.format (name_prefix, i)\n",
        "\n",
        "        gate_ratio = Dense (input_size, activation = 'sigmoid' , name = gate_ratio_name) (x)\n",
        "        fc = Dense (input_size, activation = activation, name = fc_name) (x)\n",
        "        x = Lambda ( lambda  args : args [ 0 ] * args [ 2 ] + args [ 1 ] * ( 1  - args [ 2 ]), name = gate_name) ([fc, x, gate_ratio])\n",
        "    return x\n",
        "\n",
        "\n",
        "  def  pre_train_generator (self , g_epochs = 3, g_pre_path = None, lr = 1e-3 ):\n",
        "    if g_pre_path is  None:\n",
        "        self.g_pre_path = os.path.join (self.top, 'data', 'save', 'generator_pre.hdf5' )\n",
        "    else :\n",
        "        self.g_pre_path = g_pre_path\n",
        "\n",
        "    g_adam = Adam (lr)\n",
        "    self.generator_pre.compile (g_adam, 'categorical_crossentropy' )\n",
        "    print (' Generator pre-training ' )\n",
        "    self.generator_pre.summary ()\n",
        "\n",
        "    self.generator_pre.fit_generator (\n",
        "        self.g_data,\n",
        "        steps_per_epoch = None,\n",
        "        epochs = g_epochs)\n",
        "    self .generator_pre.save_weights (self.g_pre_path)\n",
        "    self .reflect_pre_train()\n",
        "\n",
        "\n",
        "  def  pre_train_discriminator (self, d_epochs = 1, d_pre_path = None, lr = 1e-3 ):\n",
        "        if d_pre_path is  None:\n",
        "            self.d_pre_path = os.path.join (self.top, 'data', 'save', 'discriminator_pre.hdf5' )\n",
        "        else:\n",
        "            self.d_pre_path = d_pre_path\n",
        "\n",
        "        print ('Start Generating sentences ')\n",
        "        self.agent.generator.generate_samples (self.T, self.g_data,\n",
        "            self.generate_samples, self.path_neg)\n",
        "\n",
        "        self .d_data = DiscriminatorGenerator (\n",
        "            path_pos = self.path_pos,\n",
        "            path_neg = self.path_neg,\n",
        "            B = self.B,\n",
        "            shuffle = True )\n",
        "\n",
        "        d_adam = Adam (lr)\n",
        "        self.discriminator.compile (d_adam, 'binary_crossentropy' )\n",
        "        self.discriminator.summary ()\n",
        "        print('Discriminator pre-training ' )\n",
        "\n",
        "        self.discriminator.fit_generator (\n",
        "            self.d_data,\n",
        "            steps_per_epoch = None ,\n",
        "            epochs = d_epochs)\n",
        "        self.discriminator.save (self.d_pre_path)\n",
        "\n",
        "\n",
        "  def build_discriminator(self, dropout=0.1):\n",
        "\n",
        "    data_input = Input( shape=(None,), dtype='int32', name='Input')\n",
        "\n",
        "    out = Embedding(self.vocab_size, self.embedding_size, mask_zero = True, name='Embedding') (data_input)\n",
        "    out = LSTM (self.hidden_size) (out)\n",
        "    out = self.Highway (out, num_layers = 1)\n",
        "    out = Dropout (dropout, name='Dropout') (out)\n",
        "    output = Dense(1, activation='sigmoid') (out)\n",
        "\n",
        "    return Model(data_input, output)\n",
        "\n",
        "  def  Highway (self, x , num_layers = 1 , activation = 'relu' , name_prefix = '' ):\n",
        "    input_size = K.int_shape (x) [ 1 ]\n",
        "    for i in  range (num_layers):\n",
        "        gate_ratio_name =  '{}Highway/Gate_ratio_{}'.format (name_prefix, i)\n",
        "        fc_name =  '{}Highway/FC_{}'.format (name_prefix, i)\n",
        "        gate_name =  '{}Highway/Gate_{}'.format (name_prefix, i)\n",
        "\n",
        "        gate_ratio = Dense (input_size, activation = 'sigmoid' , name = gate_ratio_name) (x)\n",
        "        fc = Dense (input_size, activation = activation, name = fc_name) (x)\n",
        "        x = Lambda ( lambda  args : args [ 0 ] * args [ 2 ] + args [ 1 ] * ( 1  - args [ 2 ]), name = gate_name) ([fc, x, gate_ratio])\n",
        "    return x\n",
        "\n",
        "  def train(self, train_data, epochs, batch_size=128, sample_interval=50, g_epochs=1):\n",
        "\n",
        "    # Load and convert the data\n",
        "    # x_train, y_train = prepare_data(data)\n",
        "    X_train = train_data\n",
        "\n",
        "    # Adversarial ground truths\n",
        "    real = np.ones((batch_size, 1))\n",
        "    fake = np.zeros((batch_size, 1))\n",
        "\n",
        "    d_adam = Adam(self.d_lr)\n",
        "    self.discriminator.compile(d_adam, 'binary_crossentropy')\n",
        "\n",
        "    # Training the model\n",
        "    for epoch in range(epochs):\n",
        "\n",
        "      # Generator training\n",
        "      for _ in range(g_epochs):\n",
        "        rewards = np.zeros([self.batch_size, self.T])\n",
        "        self.agent.reset()\n",
        "        self.env.reset()\n",
        "        \n",
        "        for t in range(self.T):\n",
        "          state = self.env.get_state()\n",
        "          action = self.agent.act(state, epsilon=0.0)\n",
        "          next_state, reward, is_episode_end, info = self.env.step(action)\n",
        "          self.agent.generator.update(state, action, reward)\n",
        "          rewards[:, t] = reward.reshape([self.B,])\n",
        "          if is_episode_end:\n",
        "            if verbose:\n",
        "              print('Reward: {: .3f}, Episode end'.format(np.average(rewards)))\n",
        "              self.env.render(head = head)\n",
        "            break\n",
        "\n",
        "\n",
        "      # Discriminator training\n",
        "      for _ in range(d_epochs):\n",
        "        self.agent.generator.generate_samples(\n",
        "            self.T,\n",
        "            self.g_data,\n",
        "            self.generate_samples,\n",
        "            self.path_neg)\n",
        "        \n",
        "        self.d_data = DiscriminatorGenerator(\n",
        "            path_pos = self.path_pos,\n",
        "            path_neg = self.path_neg,\n",
        "            batch_size = self.batch_size,\n",
        "            shuffle = True\n",
        "        )\n",
        "        self.discriminator.fit_generator(\n",
        "            self.d_data,\n",
        "            steps_per_epoch = None,\n",
        "            epochs = d_epochs\n",
        "        )\n",
        "\n",
        "        # Update env.g_beta to agent\n",
        "        self.agent_save (g_weights_path)\n",
        "        self.g_beta.load(g_weights_path)\n",
        "\n",
        "        self.discriminator.save(d_weights_path)\n",
        "        self.epsilon = max(self.epsilon * (1-float(step) / steps * 4), 1e-4)\n",
        "\n",
        "\n",
        "\n",
        "\n",
        "\n",
        "      # Training the discriminator\n",
        "      # Select a random batch of note sequences\n",
        "      idx = np.random.randint(0, X_train.shape[0], batch_size)\n",
        "      real_seqs = X_train[idx]\n",
        "\n",
        "      # Noise\n",
        "      noise = np.random.normal(0, 1, (batch_size, self.latent_dim))\n",
        "\n",
        "      # Generate a batch of new sequences\n",
        "      gen_seqs = self.generator.predict(noise)\n",
        "\n",
        "      # Train the discriminator\n",
        "      d_loss_real = self.discriminator.train_on_batch(real_seqs, real)\n",
        "      d_loss_fake = self.discriminator.train_on_batch(gen_seqs, fake)\n",
        "      d_loss = 0.5 * np.add(d_loss_real, d_loss_fake)\n",
        "\n",
        "      # Train the Generator\n",
        "      noise = np.random.normal(0, 1, (batch_size, self.latent_dim))\n",
        "\n",
        "      # Train the generator (to have the discriminator label samples as real)\n",
        "      g_loss = self. combined.train_on_batch(noise, real)\n",
        "      \n",
        "    self.discriminator.save('drive/My Drive/ThesisProposal/gan-mix-discriminator.h5')\n",
        "    self.generator.save('drive/My Drive/ThesisProposal/gan-mix-generator.h5')\n",
        "\n",
        "\n",
        "  def save_model( self, g_path, d_path ):\n",
        "    self.agent.save (g_path)\n",
        "    self.discriminator.save (d_path)\n",
        "\n",
        "\n",
        "  def load_model(self, g_path, d_path ):\n",
        "    self.agent.load (g_path)\n",
        "    self.g_beta.load (g_path)\n",
        "    self.discriminator.load_weights (d_path)\n"
      ],
      "execution_count": 0,
      "outputs": []
    },
    {
      "cell_type": "markdown",
      "metadata": {
        "id": "ubuuJguuDdez",
        "colab_type": "text"
      },
      "source": [
        ""
      ]
    },
    {
      "cell_type": "code",
      "metadata": {
        "id": "0hOZvR1MDgxj",
        "colab_type": "code",
        "colab": {}
      },
      "source": [
        "https://github.com/cs109/a-2017/tree/master/Lectures\n",
        "https://harvard-iacs.github.io/2019-CS109B/pages/schedule.html"
      ],
      "execution_count": 0,
      "outputs": []
    }
  ]
}